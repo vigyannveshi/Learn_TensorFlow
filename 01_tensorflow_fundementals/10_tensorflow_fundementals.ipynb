{
 "cells": [
  {
   "cell_type": "markdown",
   "metadata": {},
   "source": [
    "###  Tensorflow Fundementals:"
   ]
  },
  {
   "cell_type": "code",
   "execution_count": 73,
   "metadata": {},
   "outputs": [],
   "source": [
    "import tensorflow as tf"
   ]
  },
  {
   "cell_type": "markdown",
   "metadata": {},
   "source": [
    "**15) Finding positional maximum and minimum**\n",
    "* `tf.argmax()`\n",
    "* `tf.argmin()`\n"
   ]
  },
  {
   "cell_type": "code",
   "execution_count": 74,
   "metadata": {},
   "outputs": [
    {
     "data": {
      "text/plain": [
       "<tf.Tensor: shape=(50,), dtype=float32, numpy=\n",
       "array([0.6645621 , 0.44100678, 0.3528825 , 0.46448255, 0.03366041,\n",
       "       0.68467236, 0.74011743, 0.8724445 , 0.22632635, 0.22319686,\n",
       "       0.3103881 , 0.7223358 , 0.13318717, 0.5480639 , 0.5746088 ,\n",
       "       0.8996835 , 0.00946367, 0.5212307 , 0.6345445 , 0.1993283 ,\n",
       "       0.72942245, 0.54583454, 0.10756552, 0.6767061 , 0.6602763 ,\n",
       "       0.33695042, 0.60141766, 0.21062577, 0.8527372 , 0.44062173,\n",
       "       0.9485276 , 0.23752594, 0.81179297, 0.5263394 , 0.494308  ,\n",
       "       0.21612847, 0.8457197 , 0.8718841 , 0.3083862 , 0.6868038 ,\n",
       "       0.23764038, 0.7817228 , 0.9671384 , 0.06870162, 0.79873943,\n",
       "       0.66028714, 0.5871513 , 0.16461694, 0.7381023 , 0.32054043],\n",
       "      dtype=float32)>"
      ]
     },
     "execution_count": 74,
     "metadata": {},
     "output_type": "execute_result"
    }
   ],
   "source": [
    "tf.random.set_seed(42)\n",
    "a=tf.random.uniform(shape=(50,))\n",
    "a"
   ]
  },
  {
   "cell_type": "code",
   "execution_count": 75,
   "metadata": {},
   "outputs": [
    {
     "name": "stdout",
     "output_type": "stream",
     "text": [
      "tf.Tensor(42, shape=(), dtype=int64)\n",
      "tf.Tensor(0.9671384, shape=(), dtype=float32)\n",
      "tf.Tensor(0.9671384, shape=(), dtype=float32)\n"
     ]
    },
    {
     "data": {
      "text/plain": [
       "<tf.Tensor: shape=(), dtype=bool, numpy=True>"
      ]
     },
     "execution_count": 75,
     "metadata": {},
     "output_type": "execute_result"
    }
   ],
   "source": [
    "# Finding the positional maximum\n",
    "print(tf.argmax(a))\n",
    "# Indexing on the positional maximum\n",
    "print(a[tf.argmax(a)])\n",
    "# Finding the max value\n",
    "print(tf.reduce_max(a))\n",
    "\n",
    "a[tf.argmax(a)]==tf.reduce_max(a)"
   ]
  },
  {
   "cell_type": "code",
   "execution_count": 76,
   "metadata": {},
   "outputs": [
    {
     "name": "stdout",
     "output_type": "stream",
     "text": [
      "tf.Tensor(16, shape=(), dtype=int64)\n",
      "tf.Tensor(0.009463668, shape=(), dtype=float32)\n",
      "tf.Tensor(0.009463668, shape=(), dtype=float32)\n"
     ]
    },
    {
     "data": {
      "text/plain": [
       "<tf.Tensor: shape=(), dtype=bool, numpy=True>"
      ]
     },
     "execution_count": 76,
     "metadata": {},
     "output_type": "execute_result"
    }
   ],
   "source": [
    "# Finding the positional minimum\n",
    "print(tf.argmin(a))\n",
    "# Indexing on the positional minimum\n",
    "print(a[tf.argmin(a)])\n",
    "# Finding the max value\n",
    "print(tf.reduce_min(a))\n",
    "\n",
    "a[tf.argmin(a)]==tf.reduce_min(a)"
   ]
  },
  {
   "cell_type": "markdown",
   "metadata": {},
   "source": [
    "**Handling multiple dimensions**"
   ]
  },
  {
   "cell_type": "code",
   "execution_count": 77,
   "metadata": {},
   "outputs": [
    {
     "data": {
      "text/plain": [
       "<tf.Tensor: shape=(5, 3), dtype=float32, numpy=\n",
       "array([[0.6645621 , 0.44100678, 0.3528825 ],\n",
       "       [0.46448255, 0.03366041, 0.68467236],\n",
       "       [0.74011743, 0.8724445 , 0.22632635],\n",
       "       [0.22319686, 0.3103881 , 0.7223358 ],\n",
       "       [0.13318717, 0.5480639 , 0.5746088 ]], dtype=float32)>"
      ]
     },
     "execution_count": 77,
     "metadata": {},
     "output_type": "execute_result"
    }
   ],
   "source": [
    "tf.random.set_seed(42)\n",
    "a=tf.random.uniform(shape=(5,3))\n",
    "a"
   ]
  },
  {
   "cell_type": "code",
   "execution_count": 78,
   "metadata": {},
   "outputs": [
    {
     "name": "stdout",
     "output_type": "stream",
     "text": [
      "tf.Tensor([2 2 3], shape=(3,), dtype=int64)\n",
      "tf.Tensor([0 2 1 2 2], shape=(5,), dtype=int64)\n"
     ]
    }
   ],
   "source": [
    "# Finding the positional maximum\n",
    "max_indices_col=tf.argmax(a,axis=0) # Index value of row having maximum column value\n",
    "max_indices_row=tf.argmax(a,axis=1) # Index value of column with max row value\n",
    "print(max_indices_col)\n",
    "print(max_indices_row)\n"
   ]
  },
  {
   "cell_type": "code",
   "execution_count": 79,
   "metadata": {},
   "outputs": [
    {
     "name": "stdout",
     "output_type": "stream",
     "text": [
      "Maximum value along row:\n",
      "max value in [0.6645621  0.44100678 0.3528825 ] is: 0.6645621061325073\n",
      "max value in [0.46448255 0.03366041 0.68467236] is: 0.6846723556518555\n",
      "max value in [0.74011743 0.8724445  0.22632635] is: 0.8724445104598999\n",
      "max value in [0.22319686 0.3103881  0.7223358 ] is: 0.7223358154296875\n",
      "max value in [0.13318717 0.5480639  0.5746088 ] is: 0.5746088027954102\n",
      "\n",
      "Maximum value along column:\n",
      "max value in [0.6645621  0.46448255 0.74011743 0.22319686 0.13318717] is: 0.7401174306869507\n",
      "max value in [0.44100678 0.03366041 0.8724445  0.3103881  0.5480639 ] is: 0.8724445104598999\n",
      "max value in [0.3528825  0.68467236 0.22632635 0.7223358  0.5746088 ] is: 0.7223358154296875\n"
     ]
    }
   ],
   "source": [
    "# max values along row\n",
    "print(\"Maximum value along row:\")\n",
    "for i,row in enumerate(a.numpy()):\n",
    "    print(f\"max value in {row} is: {row[max_indices_row[i]]}\")\n",
    "\n",
    "print()\n",
    "# max values along column\n",
    "print(\"Maximum value along column:\")\n",
    "for i,col in enumerate(a.numpy().T):\n",
    "    print(f\"max value in {col} is: {col[max_indices_col[i]]}\")"
   ]
  },
  {
   "cell_type": "markdown",
   "metadata": {},
   "source": [
    "**Alternate option to find min and max value along given axis**"
   ]
  },
  {
   "cell_type": "code",
   "execution_count": 81,
   "metadata": {},
   "outputs": [
    {
     "name": "stdout",
     "output_type": "stream",
     "text": [
      "tf.Tensor([0.74011743 0.8724445  0.7223358 ], shape=(3,), dtype=float32)\n",
      "tf.Tensor([0.6645621  0.68467236 0.8724445  0.7223358  0.5746088 ], shape=(5,), dtype=float32)\n"
     ]
    }
   ],
   "source": [
    "# along columns (first axis)\n",
    "print(tf.reduce_max(a,axis=0))\n",
    "\n",
    "# along rows (second axis)\n",
    "print(tf.reduce_max(a,axis=1))\n"
   ]
  },
  {
   "cell_type": "markdown",
   "metadata": {},
   "source": [
    "***-- CONTD IN NEXT NOTEBOOK --***"
   ]
  }
 ],
 "metadata": {
  "kernelspec": {
   "display_name": "Python 3",
   "language": "python",
   "name": "python3"
  },
  "language_info": {
   "codemirror_mode": {
    "name": "ipython",
    "version": 3
   },
   "file_extension": ".py",
   "mimetype": "text/x-python",
   "name": "python",
   "nbconvert_exporter": "python",
   "pygments_lexer": "ipython3",
   "version": "3.10.12"
  }
 },
 "nbformat": 4,
 "nbformat_minor": 2
}
