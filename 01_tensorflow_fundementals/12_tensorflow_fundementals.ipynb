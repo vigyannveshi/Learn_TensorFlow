{
 "cells": [
  {
   "cell_type": "markdown",
   "metadata": {},
   "source": [
    "###  Tensorflow Fundementals:"
   ]
  },
  {
   "cell_type": "code",
   "execution_count": 1,
   "metadata": {},
   "outputs": [
    {
     "name": "stderr",
     "output_type": "stream",
     "text": [
      "2025-02-19 13:54:09.604778: I tensorflow/core/platform/cpu_feature_guard.cc:210] This TensorFlow binary is optimized to use available CPU instructions in performance-critical operations.\n",
      "To enable the following instructions: AVX2 FMA, in other operations, rebuild TensorFlow with the appropriate compiler flags.\n"
     ]
    }
   ],
   "source": [
    "import tensorflow as tf"
   ]
  },
  {
   "cell_type": "markdown",
   "metadata": {},
   "source": [
    "**17) One Hot Encoding `tf.one_hot(indices:tensor,depth:\"number of classes\")`**\n",
    "* used to convert data into numerical form (binary)"
   ]
  },
  {
   "cell_type": "code",
   "execution_count": 6,
   "metadata": {},
   "outputs": [
    {
     "data": {
      "text/plain": [
       "<tf.Tensor: shape=(25,), dtype=int32, numpy=\n",
       "array([0, 1, 5, 2, 1, 6, 2, 3, 2, 1, 2, 6, 5, 1, 4, 8, 3, 4, 8, 0, 6, 4,\n",
       "       0, 5, 6], dtype=int32)>"
      ]
     },
     "execution_count": 6,
     "metadata": {},
     "output_type": "execute_result"
    }
   ],
   "source": [
    "data=tf.random.uniform(shape=(25,),minval=0,maxval=9,dtype=tf.int32) # 9 class data (eg: MNIST number recognition)\n",
    "num_classes=9\n",
    "data"
   ]
  },
  {
   "cell_type": "code",
   "execution_count": 7,
   "metadata": {},
   "outputs": [
    {
     "data": {
      "text/plain": [
       "<tf.Tensor: shape=(25, 9), dtype=float32, numpy=\n",
       "array([[1., 0., 0., 0., 0., 0., 0., 0., 0.],\n",
       "       [0., 1., 0., 0., 0., 0., 0., 0., 0.],\n",
       "       [0., 0., 0., 0., 0., 1., 0., 0., 0.],\n",
       "       [0., 0., 1., 0., 0., 0., 0., 0., 0.],\n",
       "       [0., 1., 0., 0., 0., 0., 0., 0., 0.],\n",
       "       [0., 0., 0., 0., 0., 0., 1., 0., 0.],\n",
       "       [0., 0., 1., 0., 0., 0., 0., 0., 0.],\n",
       "       [0., 0., 0., 1., 0., 0., 0., 0., 0.],\n",
       "       [0., 0., 1., 0., 0., 0., 0., 0., 0.],\n",
       "       [0., 1., 0., 0., 0., 0., 0., 0., 0.],\n",
       "       [0., 0., 1., 0., 0., 0., 0., 0., 0.],\n",
       "       [0., 0., 0., 0., 0., 0., 1., 0., 0.],\n",
       "       [0., 0., 0., 0., 0., 1., 0., 0., 0.],\n",
       "       [0., 1., 0., 0., 0., 0., 0., 0., 0.],\n",
       "       [0., 0., 0., 0., 1., 0., 0., 0., 0.],\n",
       "       [0., 0., 0., 0., 0., 0., 0., 0., 1.],\n",
       "       [0., 0., 0., 1., 0., 0., 0., 0., 0.],\n",
       "       [0., 0., 0., 0., 1., 0., 0., 0., 0.],\n",
       "       [0., 0., 0., 0., 0., 0., 0., 0., 1.],\n",
       "       [1., 0., 0., 0., 0., 0., 0., 0., 0.],\n",
       "       [0., 0., 0., 0., 0., 0., 1., 0., 0.],\n",
       "       [0., 0., 0., 0., 1., 0., 0., 0., 0.],\n",
       "       [1., 0., 0., 0., 0., 0., 0., 0., 0.],\n",
       "       [0., 0., 0., 0., 0., 1., 0., 0., 0.],\n",
       "       [0., 0., 0., 0., 0., 0., 1., 0., 0.]], dtype=float32)>"
      ]
     },
     "execution_count": 7,
     "metadata": {},
     "output_type": "execute_result"
    }
   ],
   "source": [
    "# one hot encode:\n",
    "tf.one_hot(data,depth=num_classes)"
   ]
  },
  {
   "cell_type": "code",
   "execution_count": 9,
   "metadata": {},
   "outputs": [
    {
     "data": {
      "text/plain": [
       "<tf.Tensor: shape=(25, 9), dtype=string, numpy=\n",
       "array([[b'Ya', b'Na', b'Na', b'Na', b'Na', b'Na', b'Na', b'Na', b'Na'],\n",
       "       [b'Na', b'Ya', b'Na', b'Na', b'Na', b'Na', b'Na', b'Na', b'Na'],\n",
       "       [b'Na', b'Na', b'Na', b'Na', b'Na', b'Ya', b'Na', b'Na', b'Na'],\n",
       "       [b'Na', b'Na', b'Ya', b'Na', b'Na', b'Na', b'Na', b'Na', b'Na'],\n",
       "       [b'Na', b'Ya', b'Na', b'Na', b'Na', b'Na', b'Na', b'Na', b'Na'],\n",
       "       [b'Na', b'Na', b'Na', b'Na', b'Na', b'Na', b'Ya', b'Na', b'Na'],\n",
       "       [b'Na', b'Na', b'Ya', b'Na', b'Na', b'Na', b'Na', b'Na', b'Na'],\n",
       "       [b'Na', b'Na', b'Na', b'Ya', b'Na', b'Na', b'Na', b'Na', b'Na'],\n",
       "       [b'Na', b'Na', b'Ya', b'Na', b'Na', b'Na', b'Na', b'Na', b'Na'],\n",
       "       [b'Na', b'Ya', b'Na', b'Na', b'Na', b'Na', b'Na', b'Na', b'Na'],\n",
       "       [b'Na', b'Na', b'Ya', b'Na', b'Na', b'Na', b'Na', b'Na', b'Na'],\n",
       "       [b'Na', b'Na', b'Na', b'Na', b'Na', b'Na', b'Ya', b'Na', b'Na'],\n",
       "       [b'Na', b'Na', b'Na', b'Na', b'Na', b'Ya', b'Na', b'Na', b'Na'],\n",
       "       [b'Na', b'Ya', b'Na', b'Na', b'Na', b'Na', b'Na', b'Na', b'Na'],\n",
       "       [b'Na', b'Na', b'Na', b'Na', b'Ya', b'Na', b'Na', b'Na', b'Na'],\n",
       "       [b'Na', b'Na', b'Na', b'Na', b'Na', b'Na', b'Na', b'Na', b'Ya'],\n",
       "       [b'Na', b'Na', b'Na', b'Ya', b'Na', b'Na', b'Na', b'Na', b'Na'],\n",
       "       [b'Na', b'Na', b'Na', b'Na', b'Ya', b'Na', b'Na', b'Na', b'Na'],\n",
       "       [b'Na', b'Na', b'Na', b'Na', b'Na', b'Na', b'Na', b'Na', b'Ya'],\n",
       "       [b'Ya', b'Na', b'Na', b'Na', b'Na', b'Na', b'Na', b'Na', b'Na'],\n",
       "       [b'Na', b'Na', b'Na', b'Na', b'Na', b'Na', b'Ya', b'Na', b'Na'],\n",
       "       [b'Na', b'Na', b'Na', b'Na', b'Ya', b'Na', b'Na', b'Na', b'Na'],\n",
       "       [b'Ya', b'Na', b'Na', b'Na', b'Na', b'Na', b'Na', b'Na', b'Na'],\n",
       "       [b'Na', b'Na', b'Na', b'Na', b'Na', b'Ya', b'Na', b'Na', b'Na'],\n",
       "       [b'Na', b'Na', b'Na', b'Na', b'Na', b'Na', b'Ya', b'Na', b'Na']],\n",
       "      dtype=object)>"
      ]
     },
     "execution_count": 9,
     "metadata": {},
     "output_type": "execute_result"
    }
   ],
   "source": [
    "# specifying custom values for one hot encoding\n",
    "tf.one_hot(data,depth=num_classes,on_value=\"Ya\",off_value=\"Na\")"
   ]
  },
  {
   "cell_type": "markdown",
   "metadata": {},
   "source": [
    "***-- CONTD IN NEXT NOTEBOOK --***"
   ]
  }
 ],
 "metadata": {
  "kernelspec": {
   "display_name": "Python 3",
   "language": "python",
   "name": "python3"
  },
  "language_info": {
   "codemirror_mode": {
    "name": "ipython",
    "version": 3
   },
   "file_extension": ".py",
   "mimetype": "text/x-python",
   "name": "python",
   "nbconvert_exporter": "python",
   "pygments_lexer": "ipython3",
   "version": "3.10.12"
  }
 },
 "nbformat": 4,
 "nbformat_minor": 2
}
