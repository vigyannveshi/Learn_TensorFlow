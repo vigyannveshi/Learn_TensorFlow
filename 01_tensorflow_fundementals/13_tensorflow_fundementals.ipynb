{
 "cells": [
  {
   "cell_type": "markdown",
   "metadata": {},
   "source": [
    "###  Tensorflow Fundementals:"
   ]
  },
  {
   "cell_type": "code",
   "execution_count": 1,
   "metadata": {},
   "outputs": [
    {
     "name": "stderr",
     "output_type": "stream",
     "text": [
      "2025-02-19 14:12:59.483890: I tensorflow/core/platform/cpu_feature_guard.cc:210] This TensorFlow binary is optimized to use available CPU instructions in performance-critical operations.\n",
      "To enable the following instructions: AVX2 FMA, in other operations, rebuild TensorFlow with the appropriate compiler flags.\n"
     ]
    }
   ],
   "source": [
    "import tensorflow as tf"
   ]
  },
  {
   "cell_type": "markdown",
   "metadata": {},
   "source": [
    "**18) Some more tensor functions and operations**\n",
    "* `tf.range(start:int,limit:int,delta:int)`\n",
    "* `tf.square(tensor)`: finds square of given tensor\n",
    "* `tf.sqrt(tensor)`: finds square root of given tensor (needs to be a float or complex)\n",
    "* `tf.math.log`: computes natural logarithm of given tensor (needs to be float or complex)"
   ]
  },
  {
   "cell_type": "code",
   "execution_count": 9,
   "metadata": {},
   "outputs": [
    {
     "data": {
      "text/plain": [
       "<tf.Tensor: shape=(50,), dtype=int32, numpy=\n",
       "array([ 1,  3,  5,  7,  9, 11, 13, 15, 17, 19, 21, 23, 25, 27, 29, 31, 33,\n",
       "       35, 37, 39, 41, 43, 45, 47, 49, 51, 53, 55, 57, 59, 61, 63, 65, 67,\n",
       "       69, 71, 73, 75, 77, 79, 81, 83, 85, 87, 89, 91, 93, 95, 97, 99],\n",
       "      dtype=int32)>"
      ]
     },
     "execution_count": 9,
     "metadata": {},
     "output_type": "execute_result"
    }
   ],
   "source": [
    "t1=tf.range(1,100,2)\n",
    "t1"
   ]
  },
  {
   "cell_type": "code",
   "execution_count": 10,
   "metadata": {},
   "outputs": [
    {
     "data": {
      "text/plain": [
       "<tf.Tensor: shape=(50,), dtype=int32, numpy=\n",
       "array([   1,    9,   25,   49,   81,  121,  169,  225,  289,  361,  441,\n",
       "        529,  625,  729,  841,  961, 1089, 1225, 1369, 1521, 1681, 1849,\n",
       "       2025, 2209, 2401, 2601, 2809, 3025, 3249, 3481, 3721, 3969, 4225,\n",
       "       4489, 4761, 5041, 5329, 5625, 5929, 6241, 6561, 6889, 7225, 7569,\n",
       "       7921, 8281, 8649, 9025, 9409, 9801], dtype=int32)>"
      ]
     },
     "execution_count": 10,
     "metadata": {},
     "output_type": "execute_result"
    }
   ],
   "source": [
    "tf.square(t1)"
   ]
  },
  {
   "cell_type": "code",
   "execution_count": 16,
   "metadata": {},
   "outputs": [
    {
     "data": {
      "text/plain": [
       "<tf.Tensor: shape=(50,), dtype=float32, numpy=\n",
       "array([1.       , 1.7320508, 2.236068 , 2.6457512, 3.       , 3.3166249,\n",
       "       3.6055512, 3.8729835, 4.1231055, 4.358899 , 4.582576 , 4.7958317,\n",
       "       5.       , 5.196152 , 5.3851647, 5.5677643, 5.7445626, 5.91608  ,\n",
       "       6.0827627, 6.244998 , 6.4031243, 6.5574384, 6.708204 , 6.8556547,\n",
       "       7.       , 7.1414285, 7.28011  , 7.4161983, 7.5498343, 7.6811457,\n",
       "       7.81025  , 7.937254 , 8.062258 , 8.185352 , 8.306623 , 8.426149 ,\n",
       "       8.5440035, 8.6602545, 8.774964 , 8.888194 , 9.       , 9.110434 ,\n",
       "       9.219544 , 9.327379 , 9.433981 , 9.539392 , 9.643651 , 9.746795 ,\n",
       "       9.848858 , 9.949874 ], dtype=float32)>"
      ]
     },
     "execution_count": 16,
     "metadata": {},
     "output_type": "execute_result"
    }
   ],
   "source": [
    "tf.sqrt(tf.cast(t1,dtype=tf.float32))"
   ]
  },
  {
   "cell_type": "code",
   "execution_count": 25,
   "metadata": {},
   "outputs": [
    {
     "data": {
      "text/plain": [
       "<tf.Tensor: shape=(50,), dtype=float32, numpy=\n",
       "array([0.       , 1.0986123, 1.609438 , 1.9459102, 2.1972246, 2.3978953,\n",
       "       2.5649493, 2.7080503, 2.8332133, 2.944439 , 3.0445225, 3.1354942,\n",
       "       3.218876 , 3.295837 , 3.3672957, 3.4339871, 3.4965076, 3.5553482,\n",
       "       3.610918 , 3.6635616, 3.713572 , 3.7612002, 3.8066626, 3.8501477,\n",
       "       3.8918204, 3.9318256, 3.9702919, 4.0073333, 4.0430512, 4.0775375,\n",
       "       4.1108737, 4.1431346, 4.1743875, 4.204693 , 4.2341065, 4.26268  ,\n",
       "       4.2904596, 4.317488 , 4.3438053, 4.3694477, 4.394449 , 4.4188404,\n",
       "       4.4426513, 4.465908 , 4.4886365, 4.5108595, 4.5325994, 4.553877 ,\n",
       "       4.574711 , 4.59512  ], dtype=float32)>"
      ]
     },
     "execution_count": 25,
     "metadata": {},
     "output_type": "execute_result"
    }
   ],
   "source": [
    "tf.math.log(tf.cast(t1,dtype=tf.float32))"
   ]
  },
  {
   "cell_type": "markdown",
   "metadata": {},
   "source": [
    "***-- CONTD IN NEXT NOTEBOOK --***"
   ]
  }
 ],
 "metadata": {
  "kernelspec": {
   "display_name": "Python 3",
   "language": "python",
   "name": "python3"
  },
  "language_info": {
   "codemirror_mode": {
    "name": "ipython",
    "version": 3
   },
   "file_extension": ".py",
   "mimetype": "text/x-python",
   "name": "python",
   "nbconvert_exporter": "python",
   "pygments_lexer": "ipython3",
   "version": "3.10.12"
  }
 },
 "nbformat": 4,
 "nbformat_minor": 2
}
