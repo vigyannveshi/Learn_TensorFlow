{
 "cells": [
  {
   "cell_type": "markdown",
   "metadata": {},
   "source": [
    "###  Tensorflow Fundementals:"
   ]
  },
  {
   "cell_type": "code",
   "execution_count": 1,
   "metadata": {},
   "outputs": [
    {
     "name": "stderr",
     "output_type": "stream",
     "text": [
      "2025-02-19 12:47:12.001044: I tensorflow/core/platform/cpu_feature_guard.cc:210] This TensorFlow binary is optimized to use available CPU instructions in performance-critical operations.\n",
      "To enable the following instructions: AVX2 FMA, in other operations, rebuild TensorFlow with the appropriate compiler flags.\n"
     ]
    }
   ],
   "source": [
    "import tensorflow as tf"
   ]
  },
  {
   "cell_type": "markdown",
   "metadata": {},
   "source": [
    "**14) Aggregating tensors**\n",
    "* Aggregation: Condensing tensors from multiple values down to smaller amount of values.\n",
    "* `tf.abs()`: Computes absolute value of tensor (converts all negative values in tensor to positive values)\n",
    "* These operations basically ravels the tensor into a single dimension vector/tensor and then applies the operations:\n",
    "    * `tf.reduce_min()`\n",
    "    * `tf.reduce_max()`\n",
    "    * `tf.reduce_mean()`\n",
    "    * `tf.reduce_sum()`\n",
    "    * `tf.math.reduce_variance()` (Needs typecasting to float or complex)\n",
    "    * `tf.math.reduce_std()`: (Needs typecasting to float or complex)"
   ]
  },
  {
   "cell_type": "code",
   "execution_count": 2,
   "metadata": {},
   "outputs": [
    {
     "data": {
      "text/plain": [
       "<tf.Tensor: shape=(2,), dtype=int32, numpy=array([ 7, 10], dtype=int32)>"
      ]
     },
     "execution_count": 2,
     "metadata": {},
     "output_type": "execute_result"
    }
   ],
   "source": [
    "# Getting absolute values\n",
    "A=tf.constant([-7,10])\n",
    "tf.abs(A)"
   ]
  },
  {
   "cell_type": "code",
   "execution_count": 32,
   "metadata": {},
   "outputs": [
    {
     "data": {
      "text/plain": [
       "<tf.Tensor: shape=(50, 2), dtype=int32, numpy=\n",
       "array([[49, 81],\n",
       "       [19, 14],\n",
       "       [77, 16],\n",
       "       [82, 75],\n",
       "       [91, 84],\n",
       "       [96, 70],\n",
       "       [14, 90],\n",
       "       [91, 48],\n",
       "       [71, 84],\n",
       "       [75, 16],\n",
       "       [40, 46],\n",
       "       [95, 80],\n",
       "       [13, 39],\n",
       "       [99, 10],\n",
       "       [55, 74],\n",
       "       [58, 68],\n",
       "       [27, 63],\n",
       "       [56, 88],\n",
       "       [26, 25],\n",
       "       [69, 57],\n",
       "       [ 5, 56],\n",
       "       [81, 91],\n",
       "       [21, 24],\n",
       "       [26, 91],\n",
       "       [89, 20],\n",
       "       [25, 10],\n",
       "       [32, 97],\n",
       "       [57, 16],\n",
       "       [10, 70],\n",
       "       [73, 73],\n",
       "       [51, 93],\n",
       "       [36, 54],\n",
       "       [93, 84],\n",
       "       [59, 49],\n",
       "       [43, 27],\n",
       "       [ 2, 89],\n",
       "       [91, 16],\n",
       "       [36, 42],\n",
       "       [ 6, 64],\n",
       "       [58, 81],\n",
       "       [ 1, 52],\n",
       "       [74, 32],\n",
       "       [32, 54],\n",
       "       [93, 99],\n",
       "       [67, 53],\n",
       "       [65, 30],\n",
       "       [ 2, 46],\n",
       "       [89, 80],\n",
       "       [26, 67],\n",
       "       [48, 77]], dtype=int32)>"
      ]
     },
     "execution_count": 32,
     "metadata": {},
     "output_type": "execute_result"
    }
   ],
   "source": [
    "tf.random.set_seed(14)\n",
    "a=tf.random.uniform(shape=(50,2),minval=0,maxval=100,dtype=tf.int32)\n",
    "a"
   ]
  },
  {
   "cell_type": "code",
   "execution_count": 18,
   "metadata": {},
   "outputs": [
    {
     "data": {
      "text/plain": [
       "<tf.Tensor: shape=(), dtype=int32, numpy=0>"
      ]
     },
     "execution_count": 18,
     "metadata": {},
     "output_type": "execute_result"
    }
   ],
   "source": [
    "# finding minimum\n",
    "tf.reduce_min(a)"
   ]
  },
  {
   "cell_type": "code",
   "execution_count": 14,
   "metadata": {},
   "outputs": [
    {
     "data": {
      "text/plain": [
       "<tf.Tensor: shape=(), dtype=int32, numpy=99>"
      ]
     },
     "execution_count": 14,
     "metadata": {},
     "output_type": "execute_result"
    }
   ],
   "source": [
    "# finding maximum\n",
    "tf.reduce_max(a)"
   ]
  },
  {
   "cell_type": "code",
   "execution_count": 19,
   "metadata": {},
   "outputs": [
    {
     "data": {
      "text/plain": [
       "<tf.Tensor: shape=(), dtype=int32, numpy=52>"
      ]
     },
     "execution_count": 19,
     "metadata": {},
     "output_type": "execute_result"
    }
   ],
   "source": [
    "# finding mean\n",
    "tf.reduce_mean(a)"
   ]
  },
  {
   "cell_type": "code",
   "execution_count": 20,
   "metadata": {},
   "outputs": [
    {
     "data": {
      "text/plain": [
       "<tf.Tensor: shape=(), dtype=int32, numpy=13145>"
      ]
     },
     "execution_count": 20,
     "metadata": {},
     "output_type": "execute_result"
    }
   ],
   "source": [
    "# finding sum of tensor\n",
    "tf.reduce_sum(a)"
   ]
  },
  {
   "cell_type": "code",
   "execution_count": 35,
   "metadata": {},
   "outputs": [
    {
     "data": {
      "text/plain": [
       "<tf.Tensor: shape=(), dtype=float32, numpy=821.501953125>"
      ]
     },
     "execution_count": 35,
     "metadata": {},
     "output_type": "execute_result"
    }
   ],
   "source": [
    "# finding variance of tensor\n",
    "tf.math.reduce_variance(tf.cast(a,tf.float32))"
   ]
  },
  {
   "cell_type": "code",
   "execution_count": 39,
   "metadata": {},
   "outputs": [
    {
     "data": {
      "text/plain": [
       "<tf.Tensor: shape=(), dtype=float64, numpy=28.661854441051087>"
      ]
     },
     "execution_count": 39,
     "metadata": {},
     "output_type": "execute_result"
    }
   ],
   "source": [
    "# finding standard deviation of tensor\n",
    "tf.math.reduce_std(tf.cast(a,tf.float64))"
   ]
  },
  {
   "cell_type": "markdown",
   "metadata": {},
   "source": [
    "***-- CONTD IN NEXT NOTEBOOK --***"
   ]
  }
 ],
 "metadata": {
  "kernelspec": {
   "display_name": "Python 3",
   "language": "python",
   "name": "python3"
  },
  "language_info": {
   "codemirror_mode": {
    "name": "ipython",
    "version": 3
   },
   "file_extension": ".py",
   "mimetype": "text/x-python",
   "name": "python",
   "nbconvert_exporter": "python",
   "pygments_lexer": "ipython3",
   "version": "3.10.12"
  }
 },
 "nbformat": 4,
 "nbformat_minor": 2
}
