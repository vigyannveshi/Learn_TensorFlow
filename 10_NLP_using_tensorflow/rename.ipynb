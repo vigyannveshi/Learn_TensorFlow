{
 "cells": [
  {
   "cell_type": "code",
   "execution_count": null,
   "id": "56bcbc8a",
   "metadata": {},
   "outputs": [
    {
     "name": "stdout",
     "output_type": "stream",
     "text": [
      "07_nlp_using_tensorflow.ipynb\n",
      "05_nlp_using_tensorflow.ipynb\n",
      "04_nlp_using_tensorflow.ipynb\n",
      "06_nlp_using_tensorflow.ipynb\n",
      "08_nlp_using_tensorflow.ipynb\n",
      "02_nlp_using_tensorflow.ipynb\n",
      "03_nlp_using_tensorflow.ipynb\n",
      "09_nlp_using_tensorflow.ipynb\n",
      "01_nlp_using_tensorflow.ipynb\n"
     ]
    }
   ],
   "source": [
    "import os\n",
    "files = os.listdir()\n",
    "for file in files:\n",
    "    if file.endswith('.ipynb') and file !='rename.ipynb':\n",
    "        start_int = file.split('_')[0]\n",
    "        # print(len(start_int))\n",
    "        if len(start_int)==1:\n",
    "            print(\"0\"+file)\n",
    "            # os.rename(file,\"0\"+file)"
   ]
  },
  {
   "cell_type": "code",
   "execution_count": null,
   "id": "7aeef630",
   "metadata": {},
   "outputs": [],
   "source": []
  }
 ],
 "metadata": {
  "kernelspec": {
   "display_name": "Python 3",
   "language": "python",
   "name": "python3"
  },
  "language_info": {
   "codemirror_mode": {
    "name": "ipython",
    "version": 3
   },
   "file_extension": ".py",
   "mimetype": "text/x-python",
   "name": "python",
   "nbconvert_exporter": "python",
   "pygments_lexer": "ipython3",
   "version": "3.10.12"
  }
 },
 "nbformat": 4,
 "nbformat_minor": 5
}
