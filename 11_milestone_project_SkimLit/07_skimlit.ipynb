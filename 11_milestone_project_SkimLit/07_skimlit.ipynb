{
 "cells": [
  {
   "cell_type": "markdown",
   "id": "46a83b76",
   "metadata": {},
   "source": [
    "### **Capstone Project: SkimLit**"
   ]
  },
  {
   "cell_type": "code",
   "execution_count": 3,
   "id": "3e213457",
   "metadata": {},
   "outputs": [],
   "source": [
    "# DL needs\n",
    "import tensorflow as tf\n",
    "import keras as kr\n",
    "\n",
    "# Data needs\n",
    "import pandas as pd\n",
    "from sklearn.model_selection import train_test_split\n",
    "\n",
    "# Numerical computation needs\n",
    "import numpy as np\n",
    "\n",
    "# plotting needs\n",
    "import matplotlib.pyplot as plt\n",
    "import matplotlib_inline\n",
    "matplotlib_inline.backend_inline.set_matplotlib_formats('svg')\n",
    "\n",
    "# ensuring reproducibility\n",
    "random_seed=42\n",
    "tf.random.set_seed(random_seed)\n",
    "\n",
    "import sys\n",
    "sys.path.append('/home/rudraksha14/Desktop/RAY_RISE_ABOVE_YOURSELF/Programming/tensorflow/')\n",
    "\n",
    "import important_functionalities as impf"
   ]
  },
  {
   "cell_type": "markdown",
   "id": "5b26de99",
   "metadata": {},
   "source": [
    "**19. Creating an end to end pipeline to input abstract and get output classified text**"
   ]
  },
  {
   "cell_type": "code",
   "execution_count": 6,
   "id": "1098b988",
   "metadata": {},
   "outputs": [
    {
     "name": "stdout",
     "output_type": "stream",
     "text": [
      "\u001b[1m1/1\u001b[0m \u001b[32m━━━━━━━━━━━━━━━━━━━━\u001b[0m\u001b[37m\u001b[0m \u001b[1m1s\u001b[0m 542ms/step\n",
      "BACKGROUND: Preclinical and clinical studies show that the GABA(B) receptor agonist baclofen may represent a pharmacotherapy for alcohol dependence (AD). However, the mechanisms by which baclofen affects drinking are not well characterized; thus this pilot study investigated possible baclofen's biobehavioral mechanisms. \n",
      "\n",
      "METHODS: The design was a double-blind controlled randomized human laboratory pilot study. Fourteen non-treatment seeking alcohol-dependent heavy drinking subjects received either baclofen 10mg t.i.d. or an active placebo (cyproheptadine 2mg t.i.d., to control for sedation) for a 7-day period. At day 8, participants performed an alcohol cue-reactivity (CR) followed by an alcohol self-administration (ASA). \n",
      "\n",
      "RESULTS: The main results were a significant effect of baclofen for increasing stimulation (p=.001) and sedation (p<.01). Furthermore, when drinking during the ASA and the 2 days before was analyzed as a composite variable, there was a significant effect of baclofen to reduce alcohol consumption (p<.01). Yet, baclofen's effects on alcohol consumption were also moderated by 5-HTTLPR LL genotype. \n",
      "\n",
      "CONCLUSIONS: Additionally, we explored possible moderators that might guide future larger studies, i.e. anxiety, family history and onset of alcoholism, and D4 dopamine receptor (DRD4) and 5-HTTLPR polymorphisms. As for the exploratory analyses, baclofen's effects to increase alcohol sedation and to reduce alcohol consumption were limited to those individuals with DRD4 ≥7 repeats (DRD4L). In conclusion, baclofen's ability to reduce alcohol drinking may be related to its effects on the biphasic effects of alcohol, but larger studies are needed to confirm these preliminary findings. \n",
      "\n",
      "\n"
     ]
    }
   ],
   "source": [
    "import re\n",
    "import tensorflow_hub as hub\n",
    "\n",
    "\n",
    "@kr.saving.register_keras_serializable(package=\"my_custom_package\")\n",
    "class UniversalEncodedLayer(tf.keras.layers.Layer):\n",
    "    def __init__(self,**kwargs):\n",
    "        super().__init__(**kwargs)\n",
    "        self.use_layer = hub.KerasLayer(\"https://www.kaggle.com/models/google/universal-sentence-encoder/TensorFlow2/universal-sentence-encoder/2\",\n",
    "                                        input_shape = [],\n",
    "                                        dtype=tf.string,\n",
    "                                        trainable=False, # default=False,\n",
    "                                        name='USE'\n",
    "                                        )\n",
    "\n",
    "    def call(self,inputs):\n",
    "        return self.use_layer(inputs)\n",
    "\n",
    "class SkimLit:\n",
    "    def __init__(self,model_file = 'models/best_model.keras'):\n",
    "        self.class_names = ['BACKGROUND', 'CONCLUSIONS', 'METHODS', 'OBJECTIVE', 'RESULTS']\n",
    "        self.model = tf.keras.models.load_model(model_file,custom_objects={'USE':UniversalEncodedLayer})\n",
    "        pass\n",
    "\n",
    "    def split_chars(self,text):\n",
    "        return \" \".join(list(text))\n",
    "    \n",
    "    def replace_numbers_and_strip(self,text):\n",
    "        # Replace any sequence of digits (possibly with decimal points) with @\n",
    "        return re.sub(r'\\d+(\\.\\d+)?', '@', text).strip()\n",
    "\n",
    "    def get_abstract_lines(self,filename):\n",
    "        # read the data\n",
    "        with open(filename,'r') as file:\n",
    "            data = file.read()\n",
    "\n",
    "        # Use regex to split\n",
    "        ### logic: New line is whenever we encounter a '.' punctuation followed by a uppercase letter\n",
    "        lines = re.split(r'(?<=[.])\\s+(?=[A-Z])', data)\n",
    "        return lines\n",
    "\n",
    "    def preprocess(self,lines,seq_len_line_nums = 15, seq_len_total_lines = 20):\n",
    "        lines = [self.replace_numbers_and_strip(line) for line in lines]\n",
    "\n",
    "        test_sentences = tf.constant([line for line in lines],dtype=tf.string)\n",
    "        test_chars = tf.constant([self.split_chars(line) for line in lines],dtype=tf.string)\n",
    "       \n",
    "        # line_numbers and total_lines need one-hot-encoding\n",
    "        test_line_numbers = tf.constant(np.array([tf.one_hot(line_num,depth=seq_len_line_nums) for line_num in range(len(lines)) ]),dtype=tf.float32)\n",
    "        test_total_lines = tf.constant(np.array([tf.one_hot(len(lines),depth = seq_len_total_lines)]*len(lines)),dtype=tf.float32)\n",
    "        return test_sentences,test_chars,test_line_numbers,test_total_lines\n",
    "\n",
    "    def classify(self,test_input):\n",
    "        predictions =  self.model.predict(test_input)\n",
    "        pred_labels = tf.argmax(predictions,axis=1)\n",
    "        return pred_labels\n",
    "\n",
    "    def skim_abstract(self,filename):\n",
    "        lines = self.get_abstract_lines(filename)\n",
    "        test_sentences,test_chars,test_line_numbers,test_total_lines = self.preprocess(lines)\n",
    "        labels = self.classify((test_sentences,test_chars,test_line_numbers,test_total_lines))\n",
    "\n",
    "        output_dict = {class_name:\"\" for class_name in self.class_names}\n",
    "\n",
    "        for line_num,line in enumerate(lines):\n",
    "            output_dict[self.class_names[labels[line_num]]]+= line.strip() + ' '\n",
    "\n",
    "        output = \"\"\n",
    "        output += f\"BACKGROUND: {output_dict['BACKGROUND']}\\n\\n\" if output_dict['BACKGROUND'] else \"\"\n",
    "        output += f\"OBJECTIVE: {output_dict['OBJECTIVE']}\\n\\n\" if output_dict['OBJECTIVE'] else \"\"\n",
    "        output += f\"METHODS: {output_dict['METHODS']}\\n\\n\" if output_dict['METHODS'] else \"\"\n",
    "        output += f\"RESULTS: {output_dict['RESULTS']}\\n\\n\" if output_dict['RESULTS'] else \"\"\n",
    "        output += f\"CONCLUSIONS: {output_dict['CONCLUSIONS']}\\n\\n\" if output_dict['CONCLUSIONS'] else \"\"\n",
    "        \n",
    "        print(output)\n",
    "\n",
    "        with open('output.txt','w') as file:\n",
    "            file.write(output)\n",
    "\n",
    "sk = SkimLit()\n",
    "output = sk.skim_abstract('abstract.txt')"
   ]
  },
  {
   "cell_type": "markdown",
   "id": "6970172a",
   "metadata": {},
   "source": [
    "***-- END --***"
   ]
  }
 ],
 "metadata": {
  "kernelspec": {
   "display_name": "Python 3",
   "language": "python",
   "name": "python3"
  },
  "language_info": {
   "codemirror_mode": {
    "name": "ipython",
    "version": 3
   },
   "file_extension": ".py",
   "mimetype": "text/x-python",
   "name": "python",
   "nbconvert_exporter": "python",
   "pygments_lexer": "ipython3",
   "version": "3.10.12"
  }
 },
 "nbformat": 4,
 "nbformat_minor": 5
}
