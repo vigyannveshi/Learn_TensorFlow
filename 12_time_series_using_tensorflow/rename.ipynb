{
 "cells": [
  {
   "cell_type": "code",
   "execution_count": 4,
   "id": "e0ec1489",
   "metadata": {},
   "outputs": [
    {
     "data": {
      "text/plain": [
       "['9_time_series_using_tensorflow.ipynb',\n",
       " '6_time_series_using_tensorflow.ipynb',\n",
       " 'ensemble_model',\n",
       " 'nbeats.png',\n",
       " '1_time_series_using_tensorflow.ipynb',\n",
       " '10_time_series_using_tensorflow.ipynb',\n",
       " '15_time_series_using_tensorflow.ipynb',\n",
       " '13_time_series_using_tensorflow.ipynb',\n",
       " 'model.png',\n",
       " '14_time_series_using_tensorflow.ipynb',\n",
       " '7_time_series_using_tensorflow.ipynb',\n",
       " 'model_experiments',\n",
       " 'bitcoin_data.csv',\n",
       " '2_time_series_using_tensorflow.ipynb',\n",
       " '5_time_series_using_tensorflow.ipynb',\n",
       " '12_time_series_using_tensorflow.ipynb',\n",
       " 'time_series_patterns.png',\n",
       " '4_time_series_using_tensorflow.ipynb',\n",
       " '3_time_series_using_tensorflow.ipynb',\n",
       " '11_time_series_using_tensorflow.ipynb',\n",
       " 'README.md',\n",
       " 'rename.ipynb',\n",
       " '8_time_series_using_tensorflow.ipynb',\n",
       " 'windowing_approaches.png']"
      ]
     },
     "execution_count": 4,
     "metadata": {},
     "output_type": "execute_result"
    }
   ],
   "source": [
    "import os\n",
    "\n",
    "files = os.listdir()\n",
    "files"
   ]
  },
  {
   "cell_type": "code",
   "execution_count": null,
   "id": "56bcbc8a",
   "metadata": {},
   "outputs": [
    {
     "name": "stdout",
     "output_type": "stream",
     "text": [
      "09_time_series_using_tensorflow.ipynb\n",
      "06_time_series_using_tensorflow.ipynb\n",
      "01_time_series_using_tensorflow.ipynb\n",
      "07_time_series_using_tensorflow.ipynb\n",
      "02_time_series_using_tensorflow.ipynb\n",
      "05_time_series_using_tensorflow.ipynb\n",
      "04_time_series_using_tensorflow.ipynb\n",
      "03_time_series_using_tensorflow.ipynb\n",
      "08_time_series_using_tensorflow.ipynb\n"
     ]
    }
   ],
   "source": [
    "for file in files:\n",
    "    if file.endswith('.ipynb') and file !='rename.ipynb':\n",
    "        start_int = file.split('_')[0]\n",
    "        # print(len(start_int))\n",
    "        if len(start_int)==1:\n",
    "            print(\"0\"+file)\n",
    "            # os.rename(file,\"0\"+file)"
   ]
  },
  {
   "cell_type": "code",
   "execution_count": null,
   "id": "7aeef630",
   "metadata": {},
   "outputs": [],
   "source": []
  }
 ],
 "metadata": {
  "kernelspec": {
   "display_name": "Python 3",
   "language": "python",
   "name": "python3"
  },
  "language_info": {
   "codemirror_mode": {
    "name": "ipython",
    "version": 3
   },
   "file_extension": ".py",
   "mimetype": "text/x-python",
   "name": "python",
   "nbconvert_exporter": "python",
   "pygments_lexer": "ipython3",
   "version": "3.10.12"
  }
 },
 "nbformat": 4,
 "nbformat_minor": 5
}
