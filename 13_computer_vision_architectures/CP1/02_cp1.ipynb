{
 "cells": [
  {
   "cell_type": "markdown",
   "id": "88781767",
   "metadata": {},
   "source": [
    "**04. Building the inception block**"
   ]
  },
  {
   "cell_type": "markdown",
   "id": "b1091636",
   "metadata": {},
   "source": [
    "<img src = 'inception_block.png' height = '400' />"
   ]
  },
  {
   "cell_type": "code",
   "execution_count": 1,
   "id": "90acc290",
   "metadata": {},
   "outputs": [
    {
     "name": "stderr",
     "output_type": "stream",
     "text": [
      "2025-04-26 13:46:18.728250: I tensorflow/core/platform/cpu_feature_guard.cc:210] This TensorFlow binary is optimized to use available CPU instructions in performance-critical operations.\n",
      "To enable the following instructions: AVX2 FMA, in other operations, rebuild TensorFlow with the appropriate compiler flags.\n"
     ]
    }
   ],
   "source": [
    "# DL needs\n",
    "import tensorflow as tf\n",
    "import keras as kr\n",
    "\n",
    "# Data needs\n",
    "import pandas as pd\n",
    "from sklearn.model_selection import train_test_split\n",
    "\n",
    "# Numerical computation needs\n",
    "import numpy as np\n",
    "\n",
    "# plotting needs\n",
    "import matplotlib.pyplot as plt\n",
    "import matplotlib_inline\n",
    "matplotlib_inline.backend_inline.set_matplotlib_formats('svg')\n",
    "\n",
    "# ensuring reproducibility\n",
    "random_seed=42\n",
    "tf.random.set_seed(random_seed)\n",
    "\n",
    "import warnings\n",
    "warnings.filterwarnings(\"ignore\", category=UserWarning, module=\"keras\")\n",
    "\n"
   ]
  },
  {
   "cell_type": "code",
   "execution_count": 13,
   "id": "48524873",
   "metadata": {},
   "outputs": [],
   "source": [
    "@kr.utils.register_keras_serializable(package='InceptionBlock')\n",
    "class InceptionBlock(kr.layers.Layer):\n",
    "    def __init__(self,input_channels,output_channels,expansion_factor,stride = 1,expansion_kernel_size = 1,depthwise_width = 3, depthwise_kernel_sizes = [3,3,3],depthwise_dilation_rates = [1,2,3], transpose_kernel_size=3, **kwargs):\n",
    "        super().__init__(**kwargs)\n",
    "\n",
    "        self._block_name = kwargs.get('name','InceptionBlock')\n",
    "        self.stride = stride\n",
    "        expanded_channels = input_channels * expansion_factor\n",
    "        self.depthwise_width = depthwise_width\n",
    "\n",
    "        # Expansion \n",
    "        self.expand_conv = tf.keras.layers.Conv2D(\n",
    "            filters = expanded_channels,\n",
    "            kernel_size = expansion_kernel_size,\n",
    "            padding = 'same',\n",
    "            use_bias = False,\n",
    "            name = f'{self._block_name}_expand'\n",
    "        )\n",
    "\n",
    "        self.bn_e = tf.keras.layers.BatchNormalization(name = f'{self._block_name}_expand_BN')\n",
    "        self.relu_e = tf.keras.layers.ReLU(name=f'{self._block_name}_expand_relu')\n",
    "\n",
    "        # Depthwise convolution x 3\n",
    "        self.depthwise = [\n",
    "            [tf.keras.layers.DepthwiseConv2D(\n",
    "                kernel_size = depthwise_kernel_sizes[0],\n",
    "                strides = self.stride,\n",
    "                padding = 'same',\n",
    "                use_bias = False,\n",
    "                name = f'{self._block_name}_depthwise_{i+1}',\n",
    "                dilation_rate = depthwise_dilation_rates[0]\n",
    "            ),\n",
    "            tf.keras.layers.BatchNormalization(name = f'{self._block_name}_depthwise_BN_{i+1}')\n",
    "            ]\n",
    "            for i in range(depthwise_width)\n",
    "        ]\n",
    "\n",
    "        # Concat layer\n",
    "        self.concat = tf.keras.layers.Concatenate(name =f'{self._block_name}_concat' )\n",
    "        \n",
    "        # Concat relu\n",
    "        self.relu_concat = tf.keras.layers.ReLU(name=f'{self._block_name}_concat_relu')\n",
    "\n",
    "        # Projection\n",
    "        self.project_conv = tf.keras.layers.Conv2D(\n",
    "            filters = output_channels,\n",
    "            kernel_size = 1,\n",
    "            padding = 'same',\n",
    "            use_bias = False,\n",
    "            name = f'{self._block_name}_project'\n",
    "        )\n",
    "        self.bn_p = tf.keras.layers.BatchNormalization(name = f'{self._block_name}_project_BN')\n",
    "\n",
    "        # Transpose Convolution layer \n",
    "        self.transpose_conv = tf.keras.layers.Conv2DTranspose(\n",
    "            filters = output_channels,\n",
    "            kernel_size = transpose_kernel_size,\n",
    "            strides = stride,\n",
    "            padding = 'valid',\n",
    "            use_bias = False,\n",
    "            name = f'{self._block_name}_transpose_conv'\n",
    "        )\n",
    "\n",
    "        self.bn_tc = tf.keras.layers.BatchNormalization(name = f'{self._block_name}_transpose_conv_BN')\n",
    "\n",
    "\n",
    "    def call(self,inputs,training = False):\n",
    "        # expansion\n",
    "        x = self.expand_conv(inputs)\n",
    "        x = self.bn_e(x,training = training)\n",
    "        x = self.relu_e(x)\n",
    "\n",
    "        # depthwise convolution\n",
    "        depthwise_out = []\n",
    "        for depthwise_layer in self.depthwise:\n",
    "            # BatchNorm(DepthwiseConv(x))\n",
    "            depthwise_out.append(depthwise_layer[1](depthwise_layer[0](x),training = training))\n",
    "\n",
    "        depthwise_out+=[x]\n",
    "        \n",
    "        # concatenation\n",
    "        x = self.concat(depthwise_out)\n",
    "        x = self.relu_concat(x)\n",
    "\n",
    "        # projection\n",
    "        x = self.project_conv(x)\n",
    "        x = self.bn_p(x,training = training)\n",
    "\n",
    "        # transpose convolution\n",
    "        x = self.transpose_conv(x)\n",
    "        x = self.bn_tc(x,training = training)\n",
    "        \n",
    "        return x"
   ]
  },
  {
   "cell_type": "code",
   "execution_count": 14,
   "id": "775ebc21",
   "metadata": {},
   "outputs": [
    {
     "data": {
      "text/html": [
       "<pre style=\"white-space:pre;overflow-x:auto;line-height:normal;font-family:Menlo,'DejaVu Sans Mono',consolas,'Courier New',monospace\"><span style=\"font-weight: bold\">Model: \"functional_1\"</span>\n",
       "</pre>\n"
      ],
      "text/plain": [
       "\u001b[1mModel: \"functional_1\"\u001b[0m\n"
      ]
     },
     "metadata": {},
     "output_type": "display_data"
    },
    {
     "data": {
      "text/html": [
       "<pre style=\"white-space:pre;overflow-x:auto;line-height:normal;font-family:Menlo,'DejaVu Sans Mono',consolas,'Courier New',monospace\">┏━━━━━━━━━━━━━━━━━━━━━━━━━━━━━━━━━┳━━━━━━━━━━━━━━━━━━━━━━━━┳━━━━━━━━━━━━━━━┓\n",
       "┃<span style=\"font-weight: bold\"> Layer (type)                    </span>┃<span style=\"font-weight: bold\"> Output Shape           </span>┃<span style=\"font-weight: bold\">       Param # </span>┃\n",
       "┡━━━━━━━━━━━━━━━━━━━━━━━━━━━━━━━━━╇━━━━━━━━━━━━━━━━━━━━━━━━╇━━━━━━━━━━━━━━━┩\n",
       "│ input_layer_1 (<span style=\"color: #0087ff; text-decoration-color: #0087ff\">InputLayer</span>)      │ (<span style=\"color: #00d7ff; text-decoration-color: #00d7ff\">None</span>, <span style=\"color: #00af00; text-decoration-color: #00af00\">128</span>, <span style=\"color: #00af00; text-decoration-color: #00af00\">128</span>, <span style=\"color: #00af00; text-decoration-color: #00af00\">32</span>)   │             <span style=\"color: #00af00; text-decoration-color: #00af00\">0</span> │\n",
       "├─────────────────────────────────┼────────────────────────┼───────────────┤\n",
       "│ Inception_1 (<span style=\"color: #0087ff; text-decoration-color: #0087ff\">InceptionBlock</span>)    │ (<span style=\"color: #00d7ff; text-decoration-color: #00d7ff\">None</span>, <span style=\"color: #00af00; text-decoration-color: #00af00\">130</span>, <span style=\"color: #00af00; text-decoration-color: #00af00\">130</span>, <span style=\"color: #00af00; text-decoration-color: #00af00\">16</span>)   │        <span style=\"color: #00af00; text-decoration-color: #00af00\">29,120</span> │\n",
       "└─────────────────────────────────┴────────────────────────┴───────────────┘\n",
       "</pre>\n"
      ],
      "text/plain": [
       "┏━━━━━━━━━━━━━━━━━━━━━━━━━━━━━━━━━┳━━━━━━━━━━━━━━━━━━━━━━━━┳━━━━━━━━━━━━━━━┓\n",
       "┃\u001b[1m \u001b[0m\u001b[1mLayer (type)                   \u001b[0m\u001b[1m \u001b[0m┃\u001b[1m \u001b[0m\u001b[1mOutput Shape          \u001b[0m\u001b[1m \u001b[0m┃\u001b[1m \u001b[0m\u001b[1m      Param #\u001b[0m\u001b[1m \u001b[0m┃\n",
       "┡━━━━━━━━━━━━━━━━━━━━━━━━━━━━━━━━━╇━━━━━━━━━━━━━━━━━━━━━━━━╇━━━━━━━━━━━━━━━┩\n",
       "│ input_layer_1 (\u001b[38;5;33mInputLayer\u001b[0m)      │ (\u001b[38;5;45mNone\u001b[0m, \u001b[38;5;34m128\u001b[0m, \u001b[38;5;34m128\u001b[0m, \u001b[38;5;34m32\u001b[0m)   │             \u001b[38;5;34m0\u001b[0m │\n",
       "├─────────────────────────────────┼────────────────────────┼───────────────┤\n",
       "│ Inception_1 (\u001b[38;5;33mInceptionBlock\u001b[0m)    │ (\u001b[38;5;45mNone\u001b[0m, \u001b[38;5;34m130\u001b[0m, \u001b[38;5;34m130\u001b[0m, \u001b[38;5;34m16\u001b[0m)   │        \u001b[38;5;34m29,120\u001b[0m │\n",
       "└─────────────────────────────────┴────────────────────────┴───────────────┘\n"
      ]
     },
     "metadata": {},
     "output_type": "display_data"
    },
    {
     "data": {
      "text/html": [
       "<pre style=\"white-space:pre;overflow-x:auto;line-height:normal;font-family:Menlo,'DejaVu Sans Mono',consolas,'Courier New',monospace\"><span style=\"font-weight: bold\"> Total params: </span><span style=\"color: #00af00; text-decoration-color: #00af00\">29,120</span> (113.75 KB)\n",
       "</pre>\n"
      ],
      "text/plain": [
       "\u001b[1m Total params: \u001b[0m\u001b[38;5;34m29,120\u001b[0m (113.75 KB)\n"
      ]
     },
     "metadata": {},
     "output_type": "display_data"
    },
    {
     "data": {
      "text/html": [
       "<pre style=\"white-space:pre;overflow-x:auto;line-height:normal;font-family:Menlo,'DejaVu Sans Mono',consolas,'Courier New',monospace\"><span style=\"font-weight: bold\"> Trainable params: </span><span style=\"color: #00af00; text-decoration-color: #00af00\">27,520</span> (107.50 KB)\n",
       "</pre>\n"
      ],
      "text/plain": [
       "\u001b[1m Trainable params: \u001b[0m\u001b[38;5;34m27,520\u001b[0m (107.50 KB)\n"
      ]
     },
     "metadata": {},
     "output_type": "display_data"
    },
    {
     "data": {
      "text/html": [
       "<pre style=\"white-space:pre;overflow-x:auto;line-height:normal;font-family:Menlo,'DejaVu Sans Mono',consolas,'Courier New',monospace\"><span style=\"font-weight: bold\"> Non-trainable params: </span><span style=\"color: #00af00; text-decoration-color: #00af00\">1,600</span> (6.25 KB)\n",
       "</pre>\n"
      ],
      "text/plain": [
       "\u001b[1m Non-trainable params: \u001b[0m\u001b[38;5;34m1,600\u001b[0m (6.25 KB)\n"
      ]
     },
     "metadata": {},
     "output_type": "display_data"
    }
   ],
   "source": [
    "inputs = tf.keras.layers.Input(shape=(128,128,32))\n",
    "outputs = InceptionBlock(input_channels=32,\n",
    "                         output_channels=16,\n",
    "                         expansion_factor=6,\n",
    "                         stride = 1,\n",
    "                         depthwise_width=3,\n",
    "                         depthwise_kernel_sizes=[3,3,3],\n",
    "                         depthwise_dilation_rates=[1,2,3],\n",
    "                         transpose_kernel_size=3,\n",
    "                         name = 'Inception_1')(inputs)\n",
    " \n",
    "model = tf.keras.models.Model(inputs = inputs, outputs= outputs)\n",
    "model.summary()\n"
   ]
  }
 ],
 "metadata": {
  "kernelspec": {
   "display_name": "Python 3",
   "language": "python",
   "name": "python3"
  },
  "language_info": {
   "codemirror_mode": {
    "name": "ipython",
    "version": 3
   },
   "file_extension": ".py",
   "mimetype": "text/x-python",
   "name": "python",
   "nbconvert_exporter": "python",
   "pygments_lexer": "ipython3",
   "version": "3.10.12"
  }
 },
 "nbformat": 4,
 "nbformat_minor": 5
}
