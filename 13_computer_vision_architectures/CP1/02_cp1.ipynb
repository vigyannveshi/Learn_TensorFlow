{
 "cells": [
  {
   "cell_type": "markdown",
   "id": "88781767",
   "metadata": {},
   "source": [
    "**04. Building the inception block**"
   ]
  },
  {
   "cell_type": "markdown",
   "id": "b1091636",
   "metadata": {},
   "source": [
    "<img src = 'INCEPTION_BLOCK.png' height = '400' />"
   ]
  },
  {
   "cell_type": "code",
   "execution_count": 45,
   "id": "90acc290",
   "metadata": {},
   "outputs": [],
   "source": [
    "# DL needs\n",
    "import tensorflow as tf\n",
    "import keras as kr\n",
    "\n",
    "# Data needs\n",
    "import pandas as pd\n",
    "from sklearn.model_selection import train_test_split\n",
    "\n",
    "# Numerical computation needs\n",
    "import numpy as np\n",
    "\n",
    "# plotting needs\n",
    "import matplotlib.pyplot as plt\n",
    "import matplotlib_inline\n",
    "matplotlib_inline.backend_inline.set_matplotlib_formats('svg')\n",
    "\n",
    "# ensuring reproducibility\n",
    "random_seed=42\n",
    "tf.random.set_seed(random_seed)\n",
    "\n",
    "import warnings\n",
    "warnings.filterwarnings(\"ignore\", category=UserWarning, module=\"keras\")\n",
    "\n"
   ]
  },
  {
   "cell_type": "code",
   "execution_count": 46,
   "id": "48524873",
   "metadata": {},
   "outputs": [],
   "source": [
    "@kr.utils.register_keras_serializable(package='InceptionBlock')\n",
    "class InceptionBlock(kr.layers.Layer):\n",
    "    def __init__(self,input_channels,output_channels,expansion_factor,conv_stride = 1,expansion_kernel_size = 1,depthwise_width = 3, depthwise_kernel_sizes = [3,3,3],depthwise_dilation_rates = [1,2,3], transpose_kernel_size=3,transpose_stride=2, **kwargs):\n",
    "        super().__init__(**kwargs)\n",
    "\n",
    "        self._block_name = kwargs.get('name','InceptionBlock')\n",
    "        self.conv_stride = conv_stride\n",
    "        self.transpose_stride = transpose_stride\n",
    "\n",
    "        expanded_channels = input_channels * expansion_factor\n",
    "        self.depthwise_width = depthwise_width\n",
    "\n",
    "        # Expansion \n",
    "        self.expand_conv = tf.keras.layers.Conv2D(\n",
    "            filters = expanded_channels,\n",
    "            kernel_size = expansion_kernel_size,\n",
    "            padding = 'same',\n",
    "            use_bias = False,\n",
    "            name = f'{self._block_name}_expand'\n",
    "        )\n",
    "\n",
    "        self.bn_e = tf.keras.layers.BatchNormalization(name = f'{self._block_name}_expand_BN')\n",
    "        self.relu_e = tf.keras.layers.ReLU(name=f'{self._block_name}_expand_relu')\n",
    "\n",
    "        # Depthwise convolution x 3\n",
    "        self.depthwise = [\n",
    "            [tf.keras.layers.DepthwiseConv2D(\n",
    "                kernel_size = depthwise_kernel_sizes[0],\n",
    "                strides = self.conv_stride,\n",
    "                padding = 'same',\n",
    "                use_bias = False,\n",
    "                name = f'{self._block_name}_depthwise_{i+1}',\n",
    "                dilation_rate = depthwise_dilation_rates[0]\n",
    "            ),\n",
    "            tf.keras.layers.BatchNormalization(name = f'{self._block_name}_depthwise_BN_{i+1}')\n",
    "            ]\n",
    "            for i in range(depthwise_width)\n",
    "        ]\n",
    "\n",
    "        # Concat layer\n",
    "        self.concat = tf.keras.layers.Concatenate(name =f'{self._block_name}_concat' )\n",
    "        \n",
    "        # Concat relu\n",
    "        self.relu_concat = tf.keras.layers.ReLU(name=f'{self._block_name}_concat_relu')\n",
    "\n",
    "        # Projection\n",
    "        self.project_conv = tf.keras.layers.Conv2D(\n",
    "            filters = output_channels,\n",
    "            kernel_size = 1,\n",
    "            padding = 'same',\n",
    "            use_bias = False,\n",
    "            name = f'{self._block_name}_project'\n",
    "        )\n",
    "        self.bn_p = tf.keras.layers.BatchNormalization(name = f'{self._block_name}_project_BN')\n",
    "\n",
    "        # Transpose Convolution layer \n",
    "        self.transpose_conv = tf.keras.layers.Conv2DTranspose(\n",
    "            filters = output_channels,\n",
    "            kernel_size = transpose_kernel_size,\n",
    "            strides = self.transpose_stride,\n",
    "            padding = 'same',\n",
    "            use_bias = False,\n",
    "            name = f'{self._block_name}_transpose_conv'\n",
    "        )\n",
    "\n",
    "        self.bn_tc = tf.keras.layers.BatchNormalization(name = f'{self._block_name}_transpose_conv_BN')\n",
    "\n",
    "\n",
    "    def call(self,inputs,training = False):\n",
    "        # expansion\n",
    "        x = self.expand_conv(inputs)\n",
    "        x = self.bn_e(x,training = training)\n",
    "        x = self.relu_e(x)\n",
    "\n",
    "        # depthwise convolution\n",
    "        depthwise_out = []\n",
    "        for depthwise_layer in self.depthwise:\n",
    "            # BatchNorm(DepthwiseConv(x))\n",
    "            depthwise_out.append(depthwise_layer[1](depthwise_layer[0](x),training = training))\n",
    "        \n",
    "        depthwise_out+=[x]\n",
    "        \n",
    "        # concatenation\n",
    "        x = self.concat(depthwise_out)\n",
    "        x = self.relu_concat(x)\n",
    "\n",
    "        # projection\n",
    "        x = self.project_conv(x)\n",
    "        x = self.bn_p(x,training = training)\n",
    "\n",
    "        # transpose convolution\n",
    "        x = self.transpose_conv(x)\n",
    "        x = self.bn_tc(x,training = training)\n",
    "        \n",
    "        return x"
   ]
  },
  {
   "cell_type": "code",
   "execution_count": 47,
   "id": "775ebc21",
   "metadata": {},
   "outputs": [
    {
     "data": {
      "text/html": [
       "<pre style=\"white-space:pre;overflow-x:auto;line-height:normal;font-family:Menlo,'DejaVu Sans Mono',consolas,'Courier New',monospace\"><span style=\"font-weight: bold\">Model: \"functional_13\"</span>\n",
       "</pre>\n"
      ],
      "text/plain": [
       "\u001b[1mModel: \"functional_13\"\u001b[0m\n"
      ]
     },
     "metadata": {},
     "output_type": "display_data"
    },
    {
     "data": {
      "text/html": [
       "<pre style=\"white-space:pre;overflow-x:auto;line-height:normal;font-family:Menlo,'DejaVu Sans Mono',consolas,'Courier New',monospace\">┏━━━━━━━━━━━━━━━━━━━━━━━━━━━━━━━━━┳━━━━━━━━━━━━━━━━━━━━━━━━┳━━━━━━━━━━━━━━━┓\n",
       "┃<span style=\"font-weight: bold\"> Layer (type)                    </span>┃<span style=\"font-weight: bold\"> Output Shape           </span>┃<span style=\"font-weight: bold\">       Param # </span>┃\n",
       "┡━━━━━━━━━━━━━━━━━━━━━━━━━━━━━━━━━╇━━━━━━━━━━━━━━━━━━━━━━━━╇━━━━━━━━━━━━━━━┩\n",
       "│ input_layer_19 (<span style=\"color: #0087ff; text-decoration-color: #0087ff\">InputLayer</span>)     │ (<span style=\"color: #00d7ff; text-decoration-color: #00d7ff\">None</span>, <span style=\"color: #00af00; text-decoration-color: #00af00\">7</span>, <span style=\"color: #00af00; text-decoration-color: #00af00\">7</span>, <span style=\"color: #00af00; text-decoration-color: #00af00\">320</span>)      │             <span style=\"color: #00af00; text-decoration-color: #00af00\">0</span> │\n",
       "├─────────────────────────────────┼────────────────────────┼───────────────┤\n",
       "│ Inception_1 (<span style=\"color: #0087ff; text-decoration-color: #0087ff\">InceptionBlock</span>)    │ (<span style=\"color: #00d7ff; text-decoration-color: #00d7ff\">None</span>, <span style=\"color: #00af00; text-decoration-color: #00af00\">14</span>, <span style=\"color: #00af00; text-decoration-color: #00af00\">14</span>, <span style=\"color: #00af00; text-decoration-color: #00af00\">192</span>)    │     <span style=\"color: #00af00; text-decoration-color: #00af00\">2,504,832</span> │\n",
       "└─────────────────────────────────┴────────────────────────┴───────────────┘\n",
       "</pre>\n"
      ],
      "text/plain": [
       "┏━━━━━━━━━━━━━━━━━━━━━━━━━━━━━━━━━┳━━━━━━━━━━━━━━━━━━━━━━━━┳━━━━━━━━━━━━━━━┓\n",
       "┃\u001b[1m \u001b[0m\u001b[1mLayer (type)                   \u001b[0m\u001b[1m \u001b[0m┃\u001b[1m \u001b[0m\u001b[1mOutput Shape          \u001b[0m\u001b[1m \u001b[0m┃\u001b[1m \u001b[0m\u001b[1m      Param #\u001b[0m\u001b[1m \u001b[0m┃\n",
       "┡━━━━━━━━━━━━━━━━━━━━━━━━━━━━━━━━━╇━━━━━━━━━━━━━━━━━━━━━━━━╇━━━━━━━━━━━━━━━┩\n",
       "│ input_layer_19 (\u001b[38;5;33mInputLayer\u001b[0m)     │ (\u001b[38;5;45mNone\u001b[0m, \u001b[38;5;34m7\u001b[0m, \u001b[38;5;34m7\u001b[0m, \u001b[38;5;34m320\u001b[0m)      │             \u001b[38;5;34m0\u001b[0m │\n",
       "├─────────────────────────────────┼────────────────────────┼───────────────┤\n",
       "│ Inception_1 (\u001b[38;5;33mInceptionBlock\u001b[0m)    │ (\u001b[38;5;45mNone\u001b[0m, \u001b[38;5;34m14\u001b[0m, \u001b[38;5;34m14\u001b[0m, \u001b[38;5;34m192\u001b[0m)    │     \u001b[38;5;34m2,504,832\u001b[0m │\n",
       "└─────────────────────────────────┴────────────────────────┴───────────────┘\n"
      ]
     },
     "metadata": {},
     "output_type": "display_data"
    },
    {
     "data": {
      "text/html": [
       "<pre style=\"white-space:pre;overflow-x:auto;line-height:normal;font-family:Menlo,'DejaVu Sans Mono',consolas,'Courier New',monospace\"><span style=\"font-weight: bold\"> Total params: </span><span style=\"color: #00af00; text-decoration-color: #00af00\">2,504,832</span> (9.56 MB)\n",
       "</pre>\n"
      ],
      "text/plain": [
       "\u001b[1m Total params: \u001b[0m\u001b[38;5;34m2,504,832\u001b[0m (9.56 MB)\n"
      ]
     },
     "metadata": {},
     "output_type": "display_data"
    },
    {
     "data": {
      "text/html": [
       "<pre style=\"white-space:pre;overflow-x:auto;line-height:normal;font-family:Menlo,'DejaVu Sans Mono',consolas,'Courier New',monospace\"><span style=\"font-weight: bold\"> Trainable params: </span><span style=\"color: #00af00; text-decoration-color: #00af00\">2,488,704</span> (9.49 MB)\n",
       "</pre>\n"
      ],
      "text/plain": [
       "\u001b[1m Trainable params: \u001b[0m\u001b[38;5;34m2,488,704\u001b[0m (9.49 MB)\n"
      ]
     },
     "metadata": {},
     "output_type": "display_data"
    },
    {
     "data": {
      "text/html": [
       "<pre style=\"white-space:pre;overflow-x:auto;line-height:normal;font-family:Menlo,'DejaVu Sans Mono',consolas,'Courier New',monospace\"><span style=\"font-weight: bold\"> Non-trainable params: </span><span style=\"color: #00af00; text-decoration-color: #00af00\">16,128</span> (63.00 KB)\n",
       "</pre>\n"
      ],
      "text/plain": [
       "\u001b[1m Non-trainable params: \u001b[0m\u001b[38;5;34m16,128\u001b[0m (63.00 KB)\n"
      ]
     },
     "metadata": {},
     "output_type": "display_data"
    }
   ],
   "source": [
    "inputs = tf.keras.layers.Input(shape=(7,7,320))\n",
    "outputs = InceptionBlock(input_channels=320,\n",
    "                         output_channels=192,\n",
    "                         expansion_factor=6,\n",
    "                         conv_stride = 1,\n",
    "                         depthwise_width=3,\n",
    "                         depthwise_kernel_sizes=[3,5,7],\n",
    "                         depthwise_dilation_rates=[1,2,3],\n",
    "                         transpose_kernel_size=3,\n",
    "                         transpose_stride=2,\n",
    "                         name = 'Inception_1')(inputs)\n",
    " \n",
    "model = tf.keras.models.Model(inputs = inputs, outputs= outputs)\n",
    "model.summary()\n"
   ]
  },
  {
   "cell_type": "markdown",
   "id": "750f2d96",
   "metadata": {},
   "source": [
    "**05. Decoder creation**\n",
    "<br>\n",
    "<img src=\"QUICKSAL.png\" width = \"700\"/>"
   ]
  },
  {
   "cell_type": "markdown",
   "id": "41dbdd22",
   "metadata": {},
   "source": [
    "**Inception layer params**\n",
    "* expansion factor = 6 for all inception blocks\n",
    "* stride (Conv,transConv) = (1,2) in all inception blocks\n",
    "* I have taken the freedom to do some variations in params, since paper has some details missing (eg: kernel_size of depthwise layer) \n",
    "<br>\n",
    "\n",
    "|Inception layer|Input size|output channels (c)|width of depthwise layer|kernel_size of depthwise layer|\n",
    "|---|---|---|---|---|\n",
    "|Inception_5|7<sup>2</sup> x 320|96|2|[1,3]|\n",
    "|Inception_4|14<sup>2</sup> x 192|32|3|[1,3,5]|\n",
    "|Inception_3|28<sup>2</sup> x 64|24|3|[1,3,5]|\n",
    "|Inception_2|56<sup>2</sup> x 48|16|4|[1,3,5,7]|\n",
    "|Inception_1|112<sup>2</sup> x 32|16|4|[1,3,5,7]|"
   ]
  },
  {
   "cell_type": "code",
   "execution_count": 49,
   "id": "b8f6e85e",
   "metadata": {},
   "outputs": [],
   "source": [
    "# decoder creation\n",
    "\n",
    "@kr.utils.register_keras_serializable(package='QUICKSAL_decoder')\n",
    "class QUICKSAL_decoder(tf.keras.layers.Layer):\n",
    "    def __init__(self,**kwargs):\n",
    "        super().__init__(**kwargs)\n",
    "\n",
    "        # inception blocks\n",
    "        self.inc1 = InceptionBlock(input_channels=32,output_channels=16,expansion_factor=6,conv_stride=1, depthwise_width=4,depthwise_kernel_sizes=[1,3,5,7], depthwise_dilation_rates=[1,1,1,1],transpose_kernel_size=3,transpose_stride=2,name='inception_1')\n",
    "\n",
    "        self.inc2 = InceptionBlock(input_channels=48,output_channels=16,expansion_factor=6,conv_stride=1, depthwise_width=4,depthwise_kernel_sizes=[1,3,5,7], depthwise_dilation_rates=[1,1,1,1],transpose_kernel_size=3,transpose_stride=2,name='inception_2')\n",
    "\n",
    "        self.inc3 = InceptionBlock(input_channels=64,output_channels=24,expansion_factor=6,conv_stride=1, depthwise_width=3,depthwise_kernel_sizes=[1,3,5], depthwise_dilation_rates=[1,1,1],transpose_kernel_size=3,transpose_stride=2,name='inception_3')\n",
    "\n",
    "        self.inc4 = InceptionBlock(input_channels=192,output_channels=32,expansion_factor=6,conv_stride=1, depthwise_width=3,depthwise_kernel_sizes=[1,3,5], depthwise_dilation_rates=[1,1,1],transpose_kernel_size=3,transpose_stride=2,name='inception_4')\n",
    "\n",
    "        self.inc5 = InceptionBlock(input_channels=320,output_channels=96,expansion_factor=6,conv_stride=1, depthwise_width=2,depthwise_kernel_sizes=[1,3], depthwise_dilation_rates=[1,1],transpose_kernel_size=3,transpose_stride=2,name='inception_5')\n",
    "\n",
    "        # concat blocks\n",
    "        self.concat_1 = tf.keras.layers.Concatenate(name = 'dec_concat_1')\n",
    "        self.concat_2 = tf.keras.layers.Concatenate(name = 'dec_concat_2')\n",
    "        self.concat_3 = tf.keras.layers.Concatenate(name = 'dec_concat_3')\n",
    "        self.concat_4 = tf.keras.layers.Concatenate(name = 'dec_concat_4')\n",
    "    \n",
    "    def call(self,inputs):\n",
    "        conv1_out,bir2_out,bir3_out,bir5_out,bir7_out = inputs\n",
    "        inc5_out = self.inc5(bir7_out)\n",
    "\n",
    "        inc4_in = self.concat_4([bir5_out,inc5_out])\n",
    "        inc4_out = self.inc4(inc4_in)\n",
    "\n",
    "        inc3_in = self.concat_3([bir3_out,inc4_out])\n",
    "        inc3_out = self.inc3(inc3_in)\n",
    "        \n",
    "        inc2_in = self.concat_2([bir2_out,inc3_out])\n",
    "        inc2_out = self.inc2(inc2_in)\n",
    "\n",
    "        inc1_in = self.concat_1([conv1_out,inc2_out])\n",
    "        inc1_out = self.inc1(inc1_in)\n",
    "\n",
    "        return inc1_out"
   ]
  },
  {
   "cell_type": "code",
   "execution_count": 51,
   "id": "639ff140",
   "metadata": {},
   "outputs": [
    {
     "data": {
      "text/html": [
       "<pre style=\"white-space:pre;overflow-x:auto;line-height:normal;font-family:Menlo,'DejaVu Sans Mono',consolas,'Courier New',monospace\"><span style=\"font-weight: bold\">Model: \"functional_14\"</span>\n",
       "</pre>\n"
      ],
      "text/plain": [
       "\u001b[1mModel: \"functional_14\"\u001b[0m\n"
      ]
     },
     "metadata": {},
     "output_type": "display_data"
    },
    {
     "data": {
      "text/html": [
       "<pre style=\"white-space:pre;overflow-x:auto;line-height:normal;font-family:Menlo,'DejaVu Sans Mono',consolas,'Courier New',monospace\">┏━━━━━━━━━━━━━━━━━━━━━┳━━━━━━━━━━━━━━━━━━━┳━━━━━━━━━━━━┳━━━━━━━━━━━━━━━━━━━┓\n",
       "┃<span style=\"font-weight: bold\"> Layer (type)        </span>┃<span style=\"font-weight: bold\"> Output Shape      </span>┃<span style=\"font-weight: bold\">    Param # </span>┃<span style=\"font-weight: bold\"> Connected to      </span>┃\n",
       "┡━━━━━━━━━━━━━━━━━━━━━╇━━━━━━━━━━━━━━━━━━━╇━━━━━━━━━━━━╇━━━━━━━━━━━━━━━━━━━┩\n",
       "│ conv1 (<span style=\"color: #0087ff; text-decoration-color: #0087ff\">InputLayer</span>)  │ (<span style=\"color: #00d7ff; text-decoration-color: #00d7ff\">None</span>, <span style=\"color: #00af00; text-decoration-color: #00af00\">112</span>, <span style=\"color: #00af00; text-decoration-color: #00af00\">112</span>,  │          <span style=\"color: #00af00; text-decoration-color: #00af00\">0</span> │ -                 │\n",
       "│                     │ <span style=\"color: #00af00; text-decoration-color: #00af00\">32</span>)               │            │                   │\n",
       "├─────────────────────┼───────────────────┼────────────┼───────────────────┤\n",
       "│ bir2 (<span style=\"color: #0087ff; text-decoration-color: #0087ff\">InputLayer</span>)   │ (<span style=\"color: #00d7ff; text-decoration-color: #00d7ff\">None</span>, <span style=\"color: #00af00; text-decoration-color: #00af00\">56</span>, <span style=\"color: #00af00; text-decoration-color: #00af00\">56</span>,    │          <span style=\"color: #00af00; text-decoration-color: #00af00\">0</span> │ -                 │\n",
       "│                     │ <span style=\"color: #00af00; text-decoration-color: #00af00\">24</span>)               │            │                   │\n",
       "├─────────────────────┼───────────────────┼────────────┼───────────────────┤\n",
       "│ bir3 (<span style=\"color: #0087ff; text-decoration-color: #0087ff\">InputLayer</span>)   │ (<span style=\"color: #00d7ff; text-decoration-color: #00d7ff\">None</span>, <span style=\"color: #00af00; text-decoration-color: #00af00\">28</span>, <span style=\"color: #00af00; text-decoration-color: #00af00\">28</span>,    │          <span style=\"color: #00af00; text-decoration-color: #00af00\">0</span> │ -                 │\n",
       "│                     │ <span style=\"color: #00af00; text-decoration-color: #00af00\">32</span>)               │            │                   │\n",
       "├─────────────────────┼───────────────────┼────────────┼───────────────────┤\n",
       "│ bir5 (<span style=\"color: #0087ff; text-decoration-color: #0087ff\">InputLayer</span>)   │ (<span style=\"color: #00d7ff; text-decoration-color: #00d7ff\">None</span>, <span style=\"color: #00af00; text-decoration-color: #00af00\">14</span>, <span style=\"color: #00af00; text-decoration-color: #00af00\">14</span>,    │          <span style=\"color: #00af00; text-decoration-color: #00af00\">0</span> │ -                 │\n",
       "│                     │ <span style=\"color: #00af00; text-decoration-color: #00af00\">96</span>)               │            │                   │\n",
       "├─────────────────────┼───────────────────┼────────────┼───────────────────┤\n",
       "│ bir7 (<span style=\"color: #0087ff; text-decoration-color: #0087ff\">InputLayer</span>)   │ (<span style=\"color: #00d7ff; text-decoration-color: #00d7ff\">None</span>, <span style=\"color: #00af00; text-decoration-color: #00af00\">7</span>, <span style=\"color: #00af00; text-decoration-color: #00af00\">7</span>, <span style=\"color: #00af00; text-decoration-color: #00af00\">320</span>) │          <span style=\"color: #00af00; text-decoration-color: #00af00\">0</span> │ -                 │\n",
       "├─────────────────────┼───────────────────┼────────────┼───────────────────┤\n",
       "│ QUICKSAL_decoder    │ (<span style=\"color: #00d7ff; text-decoration-color: #00d7ff\">None</span>, <span style=\"color: #00af00; text-decoration-color: #00af00\">224</span>, <span style=\"color: #00af00; text-decoration-color: #00af00\">224</span>,  │  <span style=\"color: #00af00; text-decoration-color: #00af00\">1,829,888</span> │ conv1[<span style=\"color: #00af00; text-decoration-color: #00af00\">0</span>][<span style=\"color: #00af00; text-decoration-color: #00af00\">0</span>],      │\n",
       "│ (<span style=\"color: #0087ff; text-decoration-color: #0087ff\">QUICKSAL_decoder</span>)  │ <span style=\"color: #00af00; text-decoration-color: #00af00\">16</span>)               │            │ bir2[<span style=\"color: #00af00; text-decoration-color: #00af00\">0</span>][<span style=\"color: #00af00; text-decoration-color: #00af00\">0</span>],       │\n",
       "│                     │                   │            │ bir3[<span style=\"color: #00af00; text-decoration-color: #00af00\">0</span>][<span style=\"color: #00af00; text-decoration-color: #00af00\">0</span>],       │\n",
       "│                     │                   │            │ bir5[<span style=\"color: #00af00; text-decoration-color: #00af00\">0</span>][<span style=\"color: #00af00; text-decoration-color: #00af00\">0</span>],       │\n",
       "│                     │                   │            │ bir7[<span style=\"color: #00af00; text-decoration-color: #00af00\">0</span>][<span style=\"color: #00af00; text-decoration-color: #00af00\">0</span>]        │\n",
       "└─────────────────────┴───────────────────┴────────────┴───────────────────┘\n",
       "</pre>\n"
      ],
      "text/plain": [
       "┏━━━━━━━━━━━━━━━━━━━━━┳━━━━━━━━━━━━━━━━━━━┳━━━━━━━━━━━━┳━━━━━━━━━━━━━━━━━━━┓\n",
       "┃\u001b[1m \u001b[0m\u001b[1mLayer (type)       \u001b[0m\u001b[1m \u001b[0m┃\u001b[1m \u001b[0m\u001b[1mOutput Shape     \u001b[0m\u001b[1m \u001b[0m┃\u001b[1m \u001b[0m\u001b[1m   Param #\u001b[0m\u001b[1m \u001b[0m┃\u001b[1m \u001b[0m\u001b[1mConnected to     \u001b[0m\u001b[1m \u001b[0m┃\n",
       "┡━━━━━━━━━━━━━━━━━━━━━╇━━━━━━━━━━━━━━━━━━━╇━━━━━━━━━━━━╇━━━━━━━━━━━━━━━━━━━┩\n",
       "│ conv1 (\u001b[38;5;33mInputLayer\u001b[0m)  │ (\u001b[38;5;45mNone\u001b[0m, \u001b[38;5;34m112\u001b[0m, \u001b[38;5;34m112\u001b[0m,  │          \u001b[38;5;34m0\u001b[0m │ -                 │\n",
       "│                     │ \u001b[38;5;34m32\u001b[0m)               │            │                   │\n",
       "├─────────────────────┼───────────────────┼────────────┼───────────────────┤\n",
       "│ bir2 (\u001b[38;5;33mInputLayer\u001b[0m)   │ (\u001b[38;5;45mNone\u001b[0m, \u001b[38;5;34m56\u001b[0m, \u001b[38;5;34m56\u001b[0m,    │          \u001b[38;5;34m0\u001b[0m │ -                 │\n",
       "│                     │ \u001b[38;5;34m24\u001b[0m)               │            │                   │\n",
       "├─────────────────────┼───────────────────┼────────────┼───────────────────┤\n",
       "│ bir3 (\u001b[38;5;33mInputLayer\u001b[0m)   │ (\u001b[38;5;45mNone\u001b[0m, \u001b[38;5;34m28\u001b[0m, \u001b[38;5;34m28\u001b[0m,    │          \u001b[38;5;34m0\u001b[0m │ -                 │\n",
       "│                     │ \u001b[38;5;34m32\u001b[0m)               │            │                   │\n",
       "├─────────────────────┼───────────────────┼────────────┼───────────────────┤\n",
       "│ bir5 (\u001b[38;5;33mInputLayer\u001b[0m)   │ (\u001b[38;5;45mNone\u001b[0m, \u001b[38;5;34m14\u001b[0m, \u001b[38;5;34m14\u001b[0m,    │          \u001b[38;5;34m0\u001b[0m │ -                 │\n",
       "│                     │ \u001b[38;5;34m96\u001b[0m)               │            │                   │\n",
       "├─────────────────────┼───────────────────┼────────────┼───────────────────┤\n",
       "│ bir7 (\u001b[38;5;33mInputLayer\u001b[0m)   │ (\u001b[38;5;45mNone\u001b[0m, \u001b[38;5;34m7\u001b[0m, \u001b[38;5;34m7\u001b[0m, \u001b[38;5;34m320\u001b[0m) │          \u001b[38;5;34m0\u001b[0m │ -                 │\n",
       "├─────────────────────┼───────────────────┼────────────┼───────────────────┤\n",
       "│ QUICKSAL_decoder    │ (\u001b[38;5;45mNone\u001b[0m, \u001b[38;5;34m224\u001b[0m, \u001b[38;5;34m224\u001b[0m,  │  \u001b[38;5;34m1,829,888\u001b[0m │ conv1[\u001b[38;5;34m0\u001b[0m][\u001b[38;5;34m0\u001b[0m],      │\n",
       "│ (\u001b[38;5;33mQUICKSAL_decoder\u001b[0m)  │ \u001b[38;5;34m16\u001b[0m)               │            │ bir2[\u001b[38;5;34m0\u001b[0m][\u001b[38;5;34m0\u001b[0m],       │\n",
       "│                     │                   │            │ bir3[\u001b[38;5;34m0\u001b[0m][\u001b[38;5;34m0\u001b[0m],       │\n",
       "│                     │                   │            │ bir5[\u001b[38;5;34m0\u001b[0m][\u001b[38;5;34m0\u001b[0m],       │\n",
       "│                     │                   │            │ bir7[\u001b[38;5;34m0\u001b[0m][\u001b[38;5;34m0\u001b[0m]        │\n",
       "└─────────────────────┴───────────────────┴────────────┴───────────────────┘\n"
      ]
     },
     "metadata": {},
     "output_type": "display_data"
    },
    {
     "data": {
      "text/html": [
       "<pre style=\"white-space:pre;overflow-x:auto;line-height:normal;font-family:Menlo,'DejaVu Sans Mono',consolas,'Courier New',monospace\"><span style=\"font-weight: bold\"> Total params: </span><span style=\"color: #00af00; text-decoration-color: #00af00\">1,829,888</span> (6.98 MB)\n",
       "</pre>\n"
      ],
      "text/plain": [
       "\u001b[1m Total params: \u001b[0m\u001b[38;5;34m1,829,888\u001b[0m (6.98 MB)\n"
      ]
     },
     "metadata": {},
     "output_type": "display_data"
    },
    {
     "data": {
      "text/html": [
       "<pre style=\"white-space:pre;overflow-x:auto;line-height:normal;font-family:Menlo,'DejaVu Sans Mono',consolas,'Courier New',monospace\"><span style=\"font-weight: bold\"> Trainable params: </span><span style=\"color: #00af00; text-decoration-color: #00af00\">1,800,544</span> (6.87 MB)\n",
       "</pre>\n"
      ],
      "text/plain": [
       "\u001b[1m Trainable params: \u001b[0m\u001b[38;5;34m1,800,544\u001b[0m (6.87 MB)\n"
      ]
     },
     "metadata": {},
     "output_type": "display_data"
    },
    {
     "data": {
      "text/html": [
       "<pre style=\"white-space:pre;overflow-x:auto;line-height:normal;font-family:Menlo,'DejaVu Sans Mono',consolas,'Courier New',monospace\"><span style=\"font-weight: bold\"> Non-trainable params: </span><span style=\"color: #00af00; text-decoration-color: #00af00\">29,344</span> (114.62 KB)\n",
       "</pre>\n"
      ],
      "text/plain": [
       "\u001b[1m Non-trainable params: \u001b[0m\u001b[38;5;34m29,344\u001b[0m (114.62 KB)\n"
      ]
     },
     "metadata": {},
     "output_type": "display_data"
    }
   ],
   "source": [
    "inputs = [tf.keras.layers.Input((112,112,32),name = 'conv1'),\n",
    "          tf.keras.layers.Input((56,56,24),name = 'bir2'),\n",
    "          tf.keras.layers.Input((28,28,32),name = 'bir3'),\n",
    "          tf.keras.layers.Input((14,14,96),name = 'bir5'),\n",
    "          tf.keras.layers.Input((7,7,320),name = 'bir7')\n",
    "          ]\n",
    "outputs = QUICKSAL_decoder(name = 'QUICKSAL_decoder')(inputs)\n",
    "model = tf.keras.models.Model(inputs = inputs,outputs=outputs)\n",
    "model.summary()\n"
   ]
  },
  {
   "cell_type": "markdown",
   "id": "2aec1e30",
   "metadata": {},
   "source": [
    "***-- CONTD IN NEXT NOTEBOOK --***"
   ]
  }
 ],
 "metadata": {
  "kernelspec": {
   "display_name": "Python 3",
   "language": "python",
   "name": "python3"
  },
  "language_info": {
   "codemirror_mode": {
    "name": "ipython",
    "version": 3
   },
   "file_extension": ".py",
   "mimetype": "text/x-python",
   "name": "python",
   "nbconvert_exporter": "python",
   "pygments_lexer": "ipython3",
   "version": "3.10.12"
  }
 },
 "nbformat": 4,
 "nbformat_minor": 5
}
