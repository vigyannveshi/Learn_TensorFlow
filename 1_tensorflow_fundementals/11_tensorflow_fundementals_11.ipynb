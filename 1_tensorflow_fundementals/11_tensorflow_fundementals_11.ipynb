{
 "cells": [
  {
   "cell_type": "markdown",
   "metadata": {},
   "source": [
    "###  Tensorflow Fundementals:"
   ]
  },
  {
   "cell_type": "code",
   "execution_count": 1,
   "metadata": {},
   "outputs": [
    {
     "name": "stderr",
     "output_type": "stream",
     "text": [
      "2025-02-19 13:48:21.419879: I tensorflow/core/platform/cpu_feature_guard.cc:210] This TensorFlow binary is optimized to use available CPU instructions in performance-critical operations.\n",
      "To enable the following instructions: AVX2 FMA, in other operations, rebuild TensorFlow with the appropriate compiler flags.\n"
     ]
    }
   ],
   "source": [
    "import tensorflow as tf"
   ]
  },
  {
   "cell_type": "markdown",
   "metadata": {},
   "source": [
    "**16) Squeezing a tensor `tf.squeeze()`**\n",
    "* Removing all single dimensions"
   ]
  },
  {
   "cell_type": "code",
   "execution_count": 6,
   "metadata": {},
   "outputs": [
    {
     "data": {
      "text/plain": [
       "<tf.Tensor: shape=(1, 1, 1, 1, 50, 1), dtype=float32, numpy=\n",
       "array([[[[[[0.6645621 ],\n",
       "           [0.44100678],\n",
       "           [0.3528825 ],\n",
       "           [0.46448255],\n",
       "           [0.03366041],\n",
       "           [0.68467236],\n",
       "           [0.74011743],\n",
       "           [0.8724445 ],\n",
       "           [0.22632635],\n",
       "           [0.22319686],\n",
       "           [0.3103881 ],\n",
       "           [0.7223358 ],\n",
       "           [0.13318717],\n",
       "           [0.5480639 ],\n",
       "           [0.5746088 ],\n",
       "           [0.8996835 ],\n",
       "           [0.00946367],\n",
       "           [0.5212307 ],\n",
       "           [0.6345445 ],\n",
       "           [0.1993283 ],\n",
       "           [0.72942245],\n",
       "           [0.54583454],\n",
       "           [0.10756552],\n",
       "           [0.6767061 ],\n",
       "           [0.6602763 ],\n",
       "           [0.33695042],\n",
       "           [0.60141766],\n",
       "           [0.21062577],\n",
       "           [0.8527372 ],\n",
       "           [0.44062173],\n",
       "           [0.9485276 ],\n",
       "           [0.23752594],\n",
       "           [0.81179297],\n",
       "           [0.5263394 ],\n",
       "           [0.494308  ],\n",
       "           [0.21612847],\n",
       "           [0.8457197 ],\n",
       "           [0.8718841 ],\n",
       "           [0.3083862 ],\n",
       "           [0.6868038 ],\n",
       "           [0.23764038],\n",
       "           [0.7817228 ],\n",
       "           [0.9671384 ],\n",
       "           [0.06870162],\n",
       "           [0.79873943],\n",
       "           [0.66028714],\n",
       "           [0.5871513 ],\n",
       "           [0.16461694],\n",
       "           [0.7381023 ],\n",
       "           [0.32054043]]]]]], dtype=float32)>"
      ]
     },
     "execution_count": 6,
     "metadata": {},
     "output_type": "execute_result"
    }
   ],
   "source": [
    "# Creating a tensor to get started\n",
    "tf.random.set_seed(42)\n",
    "t1=tf.random.uniform(shape=(1,1,1,1,50,1))\n",
    "t1"
   ]
  },
  {
   "cell_type": "code",
   "execution_count": 7,
   "metadata": {},
   "outputs": [
    {
     "data": {
      "text/plain": [
       "TensorShape([1, 1, 1, 1, 50, 1])"
      ]
     },
     "execution_count": 7,
     "metadata": {},
     "output_type": "execute_result"
    }
   ],
   "source": [
    "t1.shape"
   ]
  },
  {
   "cell_type": "code",
   "execution_count": 8,
   "metadata": {},
   "outputs": [
    {
     "data": {
      "text/plain": [
       "<tf.Tensor: shape=(50,), dtype=float32, numpy=\n",
       "array([0.6645621 , 0.44100678, 0.3528825 , 0.46448255, 0.03366041,\n",
       "       0.68467236, 0.74011743, 0.8724445 , 0.22632635, 0.22319686,\n",
       "       0.3103881 , 0.7223358 , 0.13318717, 0.5480639 , 0.5746088 ,\n",
       "       0.8996835 , 0.00946367, 0.5212307 , 0.6345445 , 0.1993283 ,\n",
       "       0.72942245, 0.54583454, 0.10756552, 0.6767061 , 0.6602763 ,\n",
       "       0.33695042, 0.60141766, 0.21062577, 0.8527372 , 0.44062173,\n",
       "       0.9485276 , 0.23752594, 0.81179297, 0.5263394 , 0.494308  ,\n",
       "       0.21612847, 0.8457197 , 0.8718841 , 0.3083862 , 0.6868038 ,\n",
       "       0.23764038, 0.7817228 , 0.9671384 , 0.06870162, 0.79873943,\n",
       "       0.66028714, 0.5871513 , 0.16461694, 0.7381023 , 0.32054043],\n",
       "      dtype=float32)>"
      ]
     },
     "execution_count": 8,
     "metadata": {},
     "output_type": "execute_result"
    }
   ],
   "source": [
    "t2=tf.squeeze(t1)\n",
    "t2"
   ]
  },
  {
   "cell_type": "markdown",
   "metadata": {},
   "source": [
    "***-- CONTD IN NEXT NOTEBOOK --***"
   ]
  }
 ],
 "metadata": {
  "kernelspec": {
   "display_name": "Python 3",
   "language": "python",
   "name": "python3"
  },
  "language_info": {
   "codemirror_mode": {
    "name": "ipython",
    "version": 3
   },
   "file_extension": ".py",
   "mimetype": "text/x-python",
   "name": "python",
   "nbconvert_exporter": "python",
   "pygments_lexer": "ipython3",
   "version": "3.10.12"
  }
 },
 "nbformat": 4,
 "nbformat_minor": 2
}
