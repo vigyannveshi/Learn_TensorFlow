{
 "cells": [
  {
   "cell_type": "markdown",
   "metadata": {},
   "source": [
    "###  Tensorflow Fundementals:"
   ]
  },
  {
   "cell_type": "markdown",
   "metadata": {},
   "source": [
    "**Introduction to tensors**"
   ]
  },
  {
   "cell_type": "code",
   "execution_count": 1,
   "metadata": {},
   "outputs": [
    {
     "name": "stderr",
     "output_type": "stream",
     "text": [
      "2025-02-18 20:58:36.082356: I tensorflow/core/platform/cpu_feature_guard.cc:210] This TensorFlow binary is optimized to use available CPU instructions in performance-critical operations.\n",
      "To enable the following instructions: AVX2 FMA, in other operations, rebuild TensorFlow with the appropriate compiler flags.\n"
     ]
    }
   ],
   "source": [
    "import tensorflow as tf"
   ]
  },
  {
   "cell_type": "markdown",
   "metadata": {},
   "source": [
    "**6) Getting information from tensors**\n",
    "<br>\n",
    "<br>\n",
    "<img src=\"tensor_info.png\" width=\"700\">\n"
   ]
  },
  {
   "cell_type": "code",
   "execution_count": 6,
   "metadata": {},
   "outputs": [
    {
     "data": {
      "text/plain": [
       "<tf.Tensor: shape=(2, 3, 4, 5), dtype=float32, numpy=\n",
       "array([[[[0.39932835, 0.7840713 , 0.67880154, 0.73395896, 0.5520444 ],\n",
       "         [0.10948515, 0.6487982 , 0.9890779 , 0.8203654 , 0.70470357],\n",
       "         [0.9578625 , 0.02297425, 0.93598676, 0.6513264 , 0.31663585],\n",
       "         [0.00111556, 0.9212191 , 0.3822806 , 0.77246034, 0.91514194]],\n",
       "\n",
       "        [[0.5751133 , 0.793342  , 0.4289763 , 0.19118965, 0.7452506 ],\n",
       "         [0.41762006, 0.8173511 , 0.20117116, 0.6457157 , 0.16484237],\n",
       "         [0.4484123 , 0.6057888 , 0.816115  , 0.4129653 , 0.2632984 ],\n",
       "         [0.19087589, 0.7631861 , 0.8340243 , 0.49447727, 0.6866319 ]],\n",
       "\n",
       "        [[0.300259  , 0.26729417, 0.83389175, 0.62988555, 0.15143108],\n",
       "         [0.47044265, 0.69402504, 0.9605911 , 0.93813527, 0.5299927 ],\n",
       "         [0.21156156, 0.3940668 , 0.16456759, 0.42329657, 0.6732943 ],\n",
       "         [0.28540838, 0.41686988, 0.74725735, 0.8982729 , 0.95173836]]],\n",
       "\n",
       "\n",
       "       [[[0.09668875, 0.94335854, 0.6924689 , 0.98699486, 0.9925091 ],\n",
       "         [0.20401764, 0.26398885, 0.79402816, 0.71974635, 0.47845697],\n",
       "         [0.21366036, 0.78412795, 0.93207085, 0.5625777 , 0.47580373],\n",
       "         [0.30543637, 0.5387846 , 0.06375635, 0.634938  , 0.6435729 ]],\n",
       "\n",
       "        [[0.3422103 , 0.8459996 , 0.21559799, 0.10748649, 0.1337657 ],\n",
       "         [0.95617914, 0.6482675 , 0.55495536, 0.02367401, 0.74084485],\n",
       "         [0.35598373, 0.29914415, 0.6900625 , 0.21108961, 0.00885725],\n",
       "         [0.42452395, 0.08308113, 0.40762496, 0.5765996 , 0.49922466]],\n",
       "\n",
       "        [[0.20822704, 0.07357836, 0.88440466, 0.17085445, 0.42289293],\n",
       "         [0.9806658 , 0.43658388, 0.13378775, 0.11820638, 0.8686751 ],\n",
       "         [0.1863147 , 0.33849728, 0.71682584, 0.39619052, 0.00361979],\n",
       "         [0.9058354 , 0.79911244, 0.7933638 , 0.9325619 , 0.93585527]]]],\n",
       "      dtype=float32)>"
      ]
     },
     "execution_count": 6,
     "metadata": {},
     "output_type": "execute_result"
    }
   ],
   "source": [
    "# creating rank 4 tensor\n",
    "random1=tf.random.Generator.from_seed(7)\n",
    "t1=random1.uniform(shape=(2,3,4,5))\n",
    "t1"
   ]
  },
  {
   "cell_type": "code",
   "execution_count": 7,
   "metadata": {},
   "outputs": [
    {
     "data": {
      "text/plain": [
       "<tf.Tensor: shape=(3, 4, 5), dtype=float32, numpy=\n",
       "array([[[0.39932835, 0.7840713 , 0.67880154, 0.73395896, 0.5520444 ],\n",
       "        [0.10948515, 0.6487982 , 0.9890779 , 0.8203654 , 0.70470357],\n",
       "        [0.9578625 , 0.02297425, 0.93598676, 0.6513264 , 0.31663585],\n",
       "        [0.00111556, 0.9212191 , 0.3822806 , 0.77246034, 0.91514194]],\n",
       "\n",
       "       [[0.5751133 , 0.793342  , 0.4289763 , 0.19118965, 0.7452506 ],\n",
       "        [0.41762006, 0.8173511 , 0.20117116, 0.6457157 , 0.16484237],\n",
       "        [0.4484123 , 0.6057888 , 0.816115  , 0.4129653 , 0.2632984 ],\n",
       "        [0.19087589, 0.7631861 , 0.8340243 , 0.49447727, 0.6866319 ]],\n",
       "\n",
       "       [[0.300259  , 0.26729417, 0.83389175, 0.62988555, 0.15143108],\n",
       "        [0.47044265, 0.69402504, 0.9605911 , 0.93813527, 0.5299927 ],\n",
       "        [0.21156156, 0.3940668 , 0.16456759, 0.42329657, 0.6732943 ],\n",
       "        [0.28540838, 0.41686988, 0.74725735, 0.8982729 , 0.95173836]]],\n",
       "      dtype=float32)>"
      ]
     },
     "execution_count": 7,
     "metadata": {},
     "output_type": "execute_result"
    }
   ],
   "source": [
    "t1[0]"
   ]
  },
  {
   "cell_type": "code",
   "execution_count": 10,
   "metadata": {},
   "outputs": [
    {
     "data": {
      "text/plain": [
       "(TensorShape([2, 3, 4, 5]), 4, <tf.Tensor: shape=(), dtype=int32, numpy=120>)"
      ]
     },
     "execution_count": 10,
     "metadata": {},
     "output_type": "execute_result"
    }
   ],
   "source": [
    "t1.shape,t1.ndim,tf.size(t1)"
   ]
  },
  {
   "cell_type": "code",
   "execution_count": 17,
   "metadata": {},
   "outputs": [
    {
     "name": "stdout",
     "output_type": "stream",
     "text": [
      "Datatype of every element:  <dtype: 'float32'>\n",
      "Number of dimensions (rank):  4\n",
      "Shape of tensor:  (2, 3, 4, 5)\n",
      "Elements along 0-axis:  2\n",
      "Elements along last-axis:  5\n",
      "Total number of elements in our tensor:  tf.Tensor(120, shape=(), dtype=int32)\n",
      "Total number of elements in our tensor:  120\n"
     ]
    }
   ],
   "source": [
    "# Get other various attributes\n",
    "print(\"Datatype of every element: \", t1.dtype)\n",
    "print(\"Number of dimensions (rank): \", t1.ndim)\n",
    "print(\"Shape of tensor: \", t1.shape)\n",
    "print(\"Elements along 0-axis: \", t1.shape[0])\n",
    "print(\"Elements along last-axis: \", t1.shape[-1])\n",
    "print(\"Total number of elements in our tensor: \", tf.size(t1))\n",
    "print(\"Total number of elements in our tensor: \", tf.size(t1).numpy())\n"
   ]
  },
  {
   "cell_type": "markdown",
   "metadata": {},
   "source": [
    "***-- CONTD IN NEXT NOTEBOOK --***"
   ]
  }
 ],
 "metadata": {
  "kernelspec": {
   "display_name": "Python 3",
   "language": "python",
   "name": "python3"
  },
  "language_info": {
   "codemirror_mode": {
    "name": "ipython",
    "version": 3
   },
   "file_extension": ".py",
   "mimetype": "text/x-python",
   "name": "python",
   "nbconvert_exporter": "python",
   "pygments_lexer": "ipython3",
   "version": "3.10.12"
  }
 },
 "nbformat": 4,
 "nbformat_minor": 2
}
