{
 "cells": [
  {
   "cell_type": "markdown",
   "metadata": {},
   "source": [
    "###  Tensorflow Fundementals:"
   ]
  },
  {
   "cell_type": "code",
   "execution_count": 1,
   "metadata": {},
   "outputs": [
    {
     "name": "stderr",
     "output_type": "stream",
     "text": [
      "2025-02-19 09:59:14.046697: I tensorflow/core/platform/cpu_feature_guard.cc:210] This TensorFlow binary is optimized to use available CPU instructions in performance-critical operations.\n",
      "To enable the following instructions: AVX2 FMA, in other operations, rebuild TensorFlow with the appropriate compiler flags.\n"
     ]
    }
   ],
   "source": [
    "import tensorflow as tf"
   ]
  },
  {
   "cell_type": "markdown",
   "metadata": {},
   "source": [
    "**7) Indexing and expanding tensors**\n",
    "* Tensors can be indexed like python lists\n",
    "* When getting first element from all dimensions except a particular one, all dimensions are squeezed."
   ]
  },
  {
   "cell_type": "code",
   "execution_count": null,
   "metadata": {},
   "outputs": [],
   "source": [
    "# Creating a random tensor\n",
    "\n",
    "random1=tf.random.Generator.from_seed(7)\n",
    "t1=random1.uniform(shape=(2,3,4,5))"
   ]
  },
  {
   "cell_type": "code",
   "execution_count": 2,
   "metadata": {},
   "outputs": [
    {
     "data": {
      "text/plain": [
       "<tf.Tensor: shape=(2, 2, 2, 2), dtype=float32, numpy=\n",
       "array([[[[0.39932835, 0.7840713 ],\n",
       "         [0.10948515, 0.6487982 ]],\n",
       "\n",
       "        [[0.5751133 , 0.793342  ],\n",
       "         [0.41762006, 0.8173511 ]]],\n",
       "\n",
       "\n",
       "       [[[0.09668875, 0.94335854],\n",
       "         [0.20401764, 0.26398885]],\n",
       "\n",
       "        [[0.3422103 , 0.8459996 ],\n",
       "         [0.95617914, 0.6482675 ]]]], dtype=float32)>"
      ]
     },
     "execution_count": 2,
     "metadata": {},
     "output_type": "execute_result"
    }
   ],
   "source": [
    "# Getting first two elements of each dimension in our tensor\n",
    "t1[:2,:2:,:2,:2]"
   ]
  },
  {
   "cell_type": "code",
   "execution_count": 7,
   "metadata": {},
   "outputs": [
    {
     "name": "stdout",
     "output_type": "stream",
     "text": [
      "tf.Tensor([[[[0.39932835 0.7840713  0.67880154 0.73395896 0.5520444 ]]]], shape=(1, 1, 1, 5), dtype=float32)\n",
      "tf.Tensor([0.39932835 0.7840713  0.67880154 0.73395896 0.5520444 ], shape=(5,), dtype=float32)\n"
     ]
    }
   ],
   "source": [
    "# Getting the first element from each dimension from each index except the final one\n",
    "print(t1[:1,:1,:1,:]) # this is what is asked by the question\n",
    "print(t1[0][0][0]) # this is extracting column from the last dimension"
   ]
  },
  {
   "cell_type": "code",
   "execution_count": 8,
   "metadata": {},
   "outputs": [
    {
     "name": "stdout",
     "output_type": "stream",
     "text": [
      "tf.Tensor(\n",
      "[[[[0.39932835]\n",
      "   [0.10948515]\n",
      "   [0.9578625 ]\n",
      "   [0.00111556]]]], shape=(1, 1, 4, 1), dtype=float32)\n"
     ]
    }
   ],
   "source": [
    "print(t1[:1,:1,:,:1]) # gets first element from each dimension except the second last one (gets all from second last dimension)"
   ]
  },
  {
   "cell_type": "code",
   "execution_count": 10,
   "metadata": {},
   "outputs": [
    {
     "name": "stdout",
     "output_type": "stream",
     "text": [
      "tf.Tensor(\n",
      "[[[[0.39932835]]\n",
      "\n",
      "  [[0.5751133 ]]\n",
      "\n",
      "  [[0.300259  ]]]], shape=(1, 3, 1, 1), dtype=float32)\n"
     ]
    }
   ],
   "source": [
    "print(t1[:1,:,:1,:1]) # gets first element from each dimension except the third last one (gets all from second last dimension)"
   ]
  },
  {
   "cell_type": "code",
   "execution_count": 11,
   "metadata": {},
   "outputs": [
    {
     "name": "stdout",
     "output_type": "stream",
     "text": [
      "tf.Tensor(\n",
      "[[[[0.39932835]]]\n",
      "\n",
      "\n",
      " [[[0.09668875]]]], shape=(2, 1, 1, 1), dtype=float32)\n"
     ]
    }
   ],
   "source": [
    "print(t1[:,:1,:1,:1]) # gets first element from each dimension except the first one (gets all from second last dimension)"
   ]
  },
  {
   "cell_type": "markdown",
   "metadata": {},
   "source": [
    "**8) Reshaping the tensor using `tf.reshape()`**"
   ]
  },
  {
   "cell_type": "code",
   "execution_count": 16,
   "metadata": {},
   "outputs": [
    {
     "data": {
      "text/plain": [
       "(TensorShape([15, 8]), 2)"
      ]
     },
     "execution_count": 16,
     "metadata": {},
     "output_type": "execute_result"
    }
   ],
   "source": [
    "# reshaping the tensor: create a rank 2 tensor\n",
    "t2=tf.reshape(t1,(3*5,tf.size(t1)//(3*5)))\n",
    "t2.shape,t2.ndim"
   ]
  },
  {
   "cell_type": "code",
   "execution_count": 17,
   "metadata": {},
   "outputs": [
    {
     "data": {
      "text/plain": [
       "<tf.Tensor: shape=(15,), dtype=float32, numpy=\n",
       "array([0.9890779 , 0.00111556, 0.19118965, 0.6057888 , 0.6866319 ,\n",
       "       0.9605911 , 0.28540838, 0.98699486, 0.78412795, 0.6435729 ,\n",
       "       0.55495536, 0.42452395, 0.17085445, 0.33849728, 0.93585527],\n",
       "      dtype=float32)>"
      ]
     },
     "execution_count": 17,
     "metadata": {},
     "output_type": "execute_result"
    }
   ],
   "source": [
    "# getting last item of each row of rank 2 tensor\n",
    "t2[:,-1]"
   ]
  },
  {
   "cell_type": "markdown",
   "metadata": {},
   "source": [
    "**9) Adding an extra dimension to tensor using `tf.newaxis` or `tf.expand_dims()`**\n",
    "* We don't shape of this numbers, rather change shape of the numbers in which they fit into\n",
    "* `[...,tf.newaxis] <--> [:,:,:,.. and so on, tf.newaxis]`, `...` consider every previous axis.\n",
    "* The new axis can be added depending on where you wish to do so\n",
    "* `tf.expand_dims(tensor,axis)`, instead of explicitly adding a new axis, here we specify the position where we want to add the new axis"
   ]
  },
  {
   "cell_type": "code",
   "execution_count": 23,
   "metadata": {},
   "outputs": [
    {
     "name": "stdout",
     "output_type": "stream",
     "text": [
      "tf.Tensor(\n",
      "[[0.39932835 0.7840713 ]\n",
      " [0.8203654  0.70470357]], shape=(2, 2), dtype=float32)\n"
     ]
    },
    {
     "data": {
      "text/plain": [
       "<tf.Tensor: shape=(2, 2, 1), dtype=float32, numpy=\n",
       "array([[[0.39932835],\n",
       "        [0.7840713 ]],\n",
       "\n",
       "       [[0.8203654 ],\n",
       "        [0.70470357]]], dtype=float32)>"
      ]
     },
     "execution_count": 23,
     "metadata": {},
     "output_type": "execute_result"
    }
   ],
   "source": [
    "# Add a dimension to rank-2 tensor and convert it to rank 3 tensor\n",
    "t3=t2[:2,:2]\n",
    "print(t3)\n",
    "t4=t3[...,tf.newaxis] # adding new axis to end\n",
    "t4"
   ]
  },
  {
   "cell_type": "code",
   "execution_count": 24,
   "metadata": {},
   "outputs": [
    {
     "data": {
      "text/plain": [
       "<tf.Tensor: shape=(2, 1, 2), dtype=float32, numpy=\n",
       "array([[[0.39932835, 0.7840713 ]],\n",
       "\n",
       "       [[0.8203654 , 0.70470357]]], dtype=float32)>"
      ]
     },
     "execution_count": 24,
     "metadata": {},
     "output_type": "execute_result"
    }
   ],
   "source": [
    "t5=t3[:,tf.newaxis,:] \n",
    "t5"
   ]
  },
  {
   "cell_type": "code",
   "execution_count": 25,
   "metadata": {},
   "outputs": [
    {
     "data": {
      "text/plain": [
       "<tf.Tensor: shape=(2, 2, 1), dtype=float32, numpy=\n",
       "array([[[0.39932835],\n",
       "        [0.7840713 ]],\n",
       "\n",
       "       [[0.8203654 ],\n",
       "        [0.70470357]]], dtype=float32)>"
      ]
     },
     "execution_count": 25,
     "metadata": {},
     "output_type": "execute_result"
    }
   ],
   "source": [
    "t6=tf.expand_dims(t3,axis=-1) # expand on final axis\n",
    "t6"
   ]
  },
  {
   "cell_type": "code",
   "execution_count": 26,
   "metadata": {},
   "outputs": [
    {
     "data": {
      "text/plain": [
       "<tf.Tensor: shape=(2, 1, 2), dtype=float32, numpy=\n",
       "array([[[0.39932835, 0.7840713 ]],\n",
       "\n",
       "       [[0.8203654 , 0.70470357]]], dtype=float32)>"
      ]
     },
     "execution_count": 26,
     "metadata": {},
     "output_type": "execute_result"
    }
   ],
   "source": [
    "t7=tf.expand_dims(t3,axis=1) # expand on second axis\n",
    "t7"
   ]
  },
  {
   "cell_type": "code",
   "execution_count": 28,
   "metadata": {},
   "outputs": [
    {
     "data": {
      "text/plain": [
       "<tf.Tensor: shape=(1, 2, 2), dtype=float32, numpy=\n",
       "array([[[0.39932835, 0.7840713 ],\n",
       "        [0.8203654 , 0.70470357]]], dtype=float32)>"
      ]
     },
     "execution_count": 28,
     "metadata": {},
     "output_type": "execute_result"
    }
   ],
   "source": [
    "t8=tf.expand_dims(t3,axis=0) # expand on first axis\n",
    "t8"
   ]
  },
  {
   "cell_type": "markdown",
   "metadata": {},
   "source": [
    "***-- CONTD IN NEXT NOTEBOOK --***"
   ]
  }
 ],
 "metadata": {
  "kernelspec": {
   "display_name": "usr",
   "language": "python",
   "name": "python3"
  },
  "language_info": {
   "codemirror_mode": {
    "name": "ipython",
    "version": 3
   },
   "file_extension": ".py",
   "mimetype": "text/x-python",
   "name": "python",
   "nbconvert_exporter": "python",
   "pygments_lexer": "ipython3",
   "version": "3.10.12"
  }
 },
 "nbformat": 4,
 "nbformat_minor": 2
}
