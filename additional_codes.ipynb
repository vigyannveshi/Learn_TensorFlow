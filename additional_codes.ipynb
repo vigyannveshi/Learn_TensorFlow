{
 "cells": [
  {
   "cell_type": "markdown",
   "metadata": {},
   "source": [
    "# Additional Codes and Snippets:"
   ]
  },
  {
   "cell_type": "markdown",
   "metadata": {},
   "source": [
    "**1. `plot_model()`**"
   ]
  },
  {
   "cell_type": "code",
   "execution_count": null,
   "metadata": {},
   "outputs": [],
   "source": [
    "from tensorflow.keras.utils import plot_model\n",
    "\n",
    "plot_model(\n",
    "    model=model,\n",
    "    show_dtype=False,\n",
    "    show_shapes=True, \n",
    "    rankdir='TB',  # 'TB' for top-to-bottom layout, 'LR' for left-to-right\n",
    "    show_layer_names=True,  # Optional: Shows layer names\n",
    "    dpi=70,  # Reduce DPI to make it smaller\n",
    "    expand_nested=True,  # Optional: Expands nested models if present\n",
    "    show_layer_activations=True,\n",
    "    show_trainable=True,\n",
    "    # to_file='model.png' # File name of the plot image,\n",
    ")"
   ]
  },
  {
   "cell_type": "raw",
   "metadata": {
    "vscode": {
     "languageId": "raw"
    }
   },
   "source": [
    "\"plt_model\":{\n",
    "    \"prefix\": \"plt_model\",\n",
    "    \"body\": [\n",
    "                \"from tensorflow.keras.utils import plot_model\",\n",
    "                \"plot_model(\",\n",
    "                \"\\tmodel=model,\",\n",
    "                \"\\tshow_dtype=False,\",\n",
    "                \"\\tshow_shapes=True, \",\n",
    "                \"\\trankdir='TB',  # 'TB' for top-to-bottom layout, 'LR' for left-to-right\",\n",
    "                \"\\tshow_layer_names=True,  # Optional: Shows layer names\",\n",
    "                \"\\tdpi=70,  # Reduce DPI to make it smaller\",\n",
    "                \"\\texpand_nested=True,  # Optional: Expands nested models if present\",\n",
    "                \"\\tshow_layer_activations=True,\",\n",
    "                \"\\tshow_trainable=True,\",\n",
    "                \"\\t# to_file='model.png' # File name of the plot image,\",\n",
    "            \")\"\n",
    "    ],\n",
    "    \"description\": \"helps to plot model\"\n",
    "},"
   ]
  },
  {
   "cell_type": "markdown",
   "metadata": {},
   "source": [
    "**2. `plot_decision_boundary()`**"
   ]
  },
  {
   "cell_type": "code",
   "execution_count": null,
   "metadata": {},
   "outputs": [],
   "source": [
    "import tensorflow as tf\n",
    "import matplotlib.pyplot as plt\n",
    "import numpy as np\n",
    "# visualizing model's predictions, lets create a function \n",
    "def plot_decision_boundary(X,y,model):\n",
    "    '''\n",
    "    Input: Trained model, Features(X), and labels(y)\n",
    "    # Creates a meshgrid of different X values\n",
    "    # make predictions across the meshgrid\n",
    "    # plot predictions as well as line between different zones where each unique class falls\n",
    "    '''\n",
    "    margin=0.1 # margin for meshgrid\n",
    "    num_points=100 # points in meshgrid\n",
    "    x_min,x_max=tf.reduce_min(X[:,0]) - margin, tf.reduce_max(X[:,0]) + margin\n",
    "    y_min,y_max=tf.reduce_min(X[:,1]) - margin, tf.reduce_max(X[:,1]) + margin\n",
    "\n",
    "    # creating meshgrid\n",
    "    xx,yy = np.meshgrid(np.linspace(x_min,x_max,num_points),\n",
    "                        np.linspace(y_min,y_max,num_points))\n",
    "\n",
    "    # creating X (input) value to make predictions\n",
    "    x_in = np.c_[xx.ravel(),yy.ravel()] # stack 2D arrays together [(x1,y1),(x2,y2)....]\n",
    "    \n",
    "    # making predictions\n",
    "    y_pred = model.predict(x_in)\n",
    "\n",
    "    # check for multi-class classification\n",
    "    if len(y_pred[0]) > 1:\n",
    "        print(\"Multi-class classification\")\n",
    "        # we need to reshape our predictions to get them ready for plot\n",
    "        y_pred=tf.argmax(y_pred,axis=1).numpy().reshape(xx.shape)\n",
    "    else:\n",
    "        print(\"Binary classification\")\n",
    "        y_pred=tf.round(y_pred).numpy().reshape(xx.shape)\n",
    "\n",
    "    # plotting the decision boundary\n",
    "    plt.contourf(xx,yy,y_pred,cmap=plt.cm.RdYlBu,alpha=0.7)\n",
    "    plt.scatter(X[:,0],X[:,1],c=y,s=40,cmap=plt.cm.RdYlBu)\n",
    "    plt.xlim(x_min,x_max)\n",
    "    plt.ylim(y_min,y_max)"
   ]
  },
  {
   "cell_type": "markdown",
   "metadata": {},
   "source": [
    "**3. `plot_confusion_matrix()`**"
   ]
  },
  {
   "cell_type": "code",
   "execution_count": null,
   "metadata": {},
   "outputs": [],
   "source": [
    "# prettifying confusion matrix\n",
    "import itertools\n",
    "import matplotlib.pyplot as plt\n",
    "import numpy as np\n",
    "\n",
    "def plot_confusion_matrix(confusion_matrix,figsize = (4,4),classes = None,title_size = 15 ,label_size = 10, text_size = 8):\n",
    "    # create the confusion matrix\n",
    "    cm_norm=confusion_matrix.astype(\"float\") / confusion_matrix.sum(axis=1)[:,np.newaxis] # normalize confusion matrix\n",
    "    n_classes = confusion_matrix.shape[0]\n",
    "\n",
    "    fig,ax=plt.subplots(figsize=figsize)\n",
    "\n",
    "    # create a matrix plot\n",
    "    cax=ax.matshow(confusion_matrix,cmap=plt.cm.Blues) \n",
    "    fig.colorbar(cax)\n",
    "\n",
    "    # Create classes\n",
    "    if classes:\n",
    "        labels = classes\n",
    "    else:\n",
    "        labels=np.arange(confusion_matrix.shape[0])\n",
    "\n",
    "    # label the axes\n",
    "    ax.set(title=\"Confusion Matrix\",\n",
    "        xlabel=\"Predicted label\",\n",
    "        ylabel=\"True label\",\n",
    "        xticks=np.arange(n_classes),\n",
    "        yticks=np.arange(n_classes),\n",
    "        xticklabels=labels,\n",
    "        yticklabels=labels\n",
    "        )\n",
    "\n",
    "    # getting the x-axis labels to bottom\n",
    "    ax.xaxis.set_label_position(\"bottom\")\n",
    "    ax.xaxis.tick_bottom()\n",
    "\n",
    "    # adjust label size\n",
    "    ax.yaxis.label.set_size(label_size)\n",
    "    ax.xaxis.label.set_size(label_size)\n",
    "\n",
    "    # adjust title size\n",
    "    ax.title.set_size(title_size)\n",
    "\n",
    "    # set the threshold for different colors\n",
    "    threshold = (confusion_matrix.max() + confusion_matrix.min())/2.0\n",
    "\n",
    "    # plot the text on each cell \n",
    "    for i,j in itertools.product(range(confusion_matrix.shape[0]),range(confusion_matrix.shape[1])):\n",
    "        plt.text(j,i,f\"{confusion_matrix[i,j]} ({cm_norm[i,j]*100:.2f}%)\",\n",
    "                horizontalalignment = \"center\",\n",
    "                verticalalignment = \"center\",\n",
    "                color = \"white\" if confusion_matrix[i,j]>threshold else \"black\",\n",
    "                size = text_size)\n",
    "    \n",
    "    plt.show()"
   ]
  }
 ],
 "metadata": {
  "language_info": {
   "name": "python"
  }
 },
 "nbformat": 4,
 "nbformat_minor": 2
}
